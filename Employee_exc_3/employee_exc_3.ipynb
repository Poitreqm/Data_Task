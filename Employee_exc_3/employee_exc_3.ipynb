{
 "cells": [
  {
   "cell_type": "markdown",
   "metadata": {},
   "source": [
    "- Display the first 5 rows of the table.\n",
    "- Display the last 3 rows of the table.\n",
    "- Show information about the data types of each column.\n",
    "- Find the average age of employees.\n",
    "- Determine the maximum salary among all employees.\n",
    "- Find the minimum start date.\n",
    "- Display the names of employees in the IT department.\n",
    "- Sort the table by salary in descending order.\n",
    "- Display all employees with a salary above 70000.\n",
    "- Count the number of employees in each department.\n",
    "- Find the average salary of employees in the HR department.\n",
    "- Determine the number of employees older than 30 years.\n",
    "- Find the name of the employee with the earliest start date.\n",
    "- Add a new column with the number of years of work based on the StartDate column.\n",
    "- Display employees who started working in 2017.\n",
    "- Find the employee with the highest salary.\n",
    "- Determine the average length of work (in years) of employees.\n",
    "- Display a list of departments where employees work, without repetition.\n",
    "- Determine the average age of employees in each department."
   ]
  },
  {
   "cell_type": "code",
   "execution_count": 373,
   "metadata": {},
   "outputs": [
    {
     "data": {
      "text/html": [
       "<div>\n",
       "<style scoped>\n",
       "    .dataframe tbody tr th:only-of-type {\n",
       "        vertical-align: middle;\n",
       "    }\n",
       "\n",
       "    .dataframe tbody tr th {\n",
       "        vertical-align: top;\n",
       "    }\n",
       "\n",
       "    .dataframe thead th {\n",
       "        text-align: right;\n",
       "    }\n",
       "</style>\n",
       "<table border=\"1\" class=\"dataframe\">\n",
       "  <thead>\n",
       "    <tr style=\"text-align: right;\">\n",
       "      <th></th>\n",
       "      <th>EmployeeID</th>\n",
       "      <th>Name</th>\n",
       "      <th>Age</th>\n",
       "      <th>Department</th>\n",
       "      <th>Salary</th>\n",
       "      <th>StartDate</th>\n",
       "    </tr>\n",
       "  </thead>\n",
       "  <tbody>\n",
       "    <tr>\n",
       "      <th>0</th>\n",
       "      <td>1</td>\n",
       "      <td>John Smith</td>\n",
       "      <td>28</td>\n",
       "      <td>HR</td>\n",
       "      <td>50000</td>\n",
       "      <td>2019-01-15</td>\n",
       "    </tr>\n",
       "    <tr>\n",
       "      <th>1</th>\n",
       "      <td>2</td>\n",
       "      <td>Jane Doe</td>\n",
       "      <td>34</td>\n",
       "      <td>IT</td>\n",
       "      <td>75000</td>\n",
       "      <td>2018-05-23</td>\n",
       "    </tr>\n",
       "    <tr>\n",
       "      <th>2</th>\n",
       "      <td>3</td>\n",
       "      <td>Sam Brown</td>\n",
       "      <td>45</td>\n",
       "      <td>IT</td>\n",
       "      <td>80000</td>\n",
       "      <td>2015-08-01</td>\n",
       "    </tr>\n",
       "    <tr>\n",
       "      <th>3</th>\n",
       "      <td>4</td>\n",
       "      <td>Lisa Ray</td>\n",
       "      <td>29</td>\n",
       "      <td>HR</td>\n",
       "      <td>52000</td>\n",
       "      <td>2020-10-12</td>\n",
       "    </tr>\n",
       "    <tr>\n",
       "      <th>4</th>\n",
       "      <td>5</td>\n",
       "      <td>Mark Green</td>\n",
       "      <td>40</td>\n",
       "      <td>Sales</td>\n",
       "      <td>65000</td>\n",
       "      <td>2017-03-11</td>\n",
       "    </tr>\n",
       "    <tr>\n",
       "      <th>5</th>\n",
       "      <td>6</td>\n",
       "      <td>Anna White</td>\n",
       "      <td>32</td>\n",
       "      <td>IT</td>\n",
       "      <td>72000</td>\n",
       "      <td>2016-04-20</td>\n",
       "    </tr>\n",
       "    <tr>\n",
       "      <th>6</th>\n",
       "      <td>7</td>\n",
       "      <td>Tom Black</td>\n",
       "      <td>38</td>\n",
       "      <td>Sales</td>\n",
       "      <td>68000</td>\n",
       "      <td>2017-09-30</td>\n",
       "    </tr>\n",
       "  </tbody>\n",
       "</table>\n",
       "</div>"
      ],
      "text/plain": [
       "   EmployeeID        Name  Age Department  Salary   StartDate\n",
       "0           1  John Smith   28         HR   50000  2019-01-15\n",
       "1           2    Jane Doe   34         IT   75000  2018-05-23\n",
       "2           3   Sam Brown   45         IT   80000  2015-08-01\n",
       "3           4    Lisa Ray   29         HR   52000  2020-10-12\n",
       "4           5  Mark Green   40      Sales   65000  2017-03-11\n",
       "5           6  Anna White   32         IT   72000  2016-04-20\n",
       "6           7   Tom Black   38      Sales   68000  2017-09-30"
      ]
     },
     "execution_count": 373,
     "metadata": {},
     "output_type": "execute_result"
    }
   ],
   "source": [
    "import pandas as pd\n",
    "from datetime import datetime\n",
    "de = pd.read_csv(\"employee_exc_3.csv\")\n",
    "de"
   ]
  },
  {
   "cell_type": "code",
   "execution_count": 374,
   "metadata": {},
   "outputs": [
    {
     "data": {
      "text/html": [
       "<div>\n",
       "<style scoped>\n",
       "    .dataframe tbody tr th:only-of-type {\n",
       "        vertical-align: middle;\n",
       "    }\n",
       "\n",
       "    .dataframe tbody tr th {\n",
       "        vertical-align: top;\n",
       "    }\n",
       "\n",
       "    .dataframe thead th {\n",
       "        text-align: right;\n",
       "    }\n",
       "</style>\n",
       "<table border=\"1\" class=\"dataframe\">\n",
       "  <thead>\n",
       "    <tr style=\"text-align: right;\">\n",
       "      <th></th>\n",
       "      <th>EmployeeID</th>\n",
       "      <th>Name</th>\n",
       "      <th>Age</th>\n",
       "      <th>Department</th>\n",
       "      <th>Salary</th>\n",
       "      <th>StartDate</th>\n",
       "    </tr>\n",
       "  </thead>\n",
       "  <tbody>\n",
       "    <tr>\n",
       "      <th>0</th>\n",
       "      <td>1</td>\n",
       "      <td>John Smith</td>\n",
       "      <td>28</td>\n",
       "      <td>HR</td>\n",
       "      <td>50000</td>\n",
       "      <td>2019-01-15</td>\n",
       "    </tr>\n",
       "    <tr>\n",
       "      <th>1</th>\n",
       "      <td>2</td>\n",
       "      <td>Jane Doe</td>\n",
       "      <td>34</td>\n",
       "      <td>IT</td>\n",
       "      <td>75000</td>\n",
       "      <td>2018-05-23</td>\n",
       "    </tr>\n",
       "    <tr>\n",
       "      <th>2</th>\n",
       "      <td>3</td>\n",
       "      <td>Sam Brown</td>\n",
       "      <td>45</td>\n",
       "      <td>IT</td>\n",
       "      <td>80000</td>\n",
       "      <td>2015-08-01</td>\n",
       "    </tr>\n",
       "    <tr>\n",
       "      <th>3</th>\n",
       "      <td>4</td>\n",
       "      <td>Lisa Ray</td>\n",
       "      <td>29</td>\n",
       "      <td>HR</td>\n",
       "      <td>52000</td>\n",
       "      <td>2020-10-12</td>\n",
       "    </tr>\n",
       "    <tr>\n",
       "      <th>4</th>\n",
       "      <td>5</td>\n",
       "      <td>Mark Green</td>\n",
       "      <td>40</td>\n",
       "      <td>Sales</td>\n",
       "      <td>65000</td>\n",
       "      <td>2017-03-11</td>\n",
       "    </tr>\n",
       "  </tbody>\n",
       "</table>\n",
       "</div>"
      ],
      "text/plain": [
       "   EmployeeID        Name  Age Department  Salary   StartDate\n",
       "0           1  John Smith   28         HR   50000  2019-01-15\n",
       "1           2    Jane Doe   34         IT   75000  2018-05-23\n",
       "2           3   Sam Brown   45         IT   80000  2015-08-01\n",
       "3           4    Lisa Ray   29         HR   52000  2020-10-12\n",
       "4           5  Mark Green   40      Sales   65000  2017-03-11"
      ]
     },
     "execution_count": 374,
     "metadata": {},
     "output_type": "execute_result"
    }
   ],
   "source": [
    "de.head(5)"
   ]
  },
  {
   "cell_type": "code",
   "execution_count": 375,
   "metadata": {},
   "outputs": [
    {
     "data": {
      "text/html": [
       "<div>\n",
       "<style scoped>\n",
       "    .dataframe tbody tr th:only-of-type {\n",
       "        vertical-align: middle;\n",
       "    }\n",
       "\n",
       "    .dataframe tbody tr th {\n",
       "        vertical-align: top;\n",
       "    }\n",
       "\n",
       "    .dataframe thead th {\n",
       "        text-align: right;\n",
       "    }\n",
       "</style>\n",
       "<table border=\"1\" class=\"dataframe\">\n",
       "  <thead>\n",
       "    <tr style=\"text-align: right;\">\n",
       "      <th></th>\n",
       "      <th>EmployeeID</th>\n",
       "      <th>Name</th>\n",
       "      <th>Age</th>\n",
       "      <th>Department</th>\n",
       "      <th>Salary</th>\n",
       "      <th>StartDate</th>\n",
       "    </tr>\n",
       "  </thead>\n",
       "  <tbody>\n",
       "    <tr>\n",
       "      <th>4</th>\n",
       "      <td>5</td>\n",
       "      <td>Mark Green</td>\n",
       "      <td>40</td>\n",
       "      <td>Sales</td>\n",
       "      <td>65000</td>\n",
       "      <td>2017-03-11</td>\n",
       "    </tr>\n",
       "    <tr>\n",
       "      <th>5</th>\n",
       "      <td>6</td>\n",
       "      <td>Anna White</td>\n",
       "      <td>32</td>\n",
       "      <td>IT</td>\n",
       "      <td>72000</td>\n",
       "      <td>2016-04-20</td>\n",
       "    </tr>\n",
       "    <tr>\n",
       "      <th>6</th>\n",
       "      <td>7</td>\n",
       "      <td>Tom Black</td>\n",
       "      <td>38</td>\n",
       "      <td>Sales</td>\n",
       "      <td>68000</td>\n",
       "      <td>2017-09-30</td>\n",
       "    </tr>\n",
       "  </tbody>\n",
       "</table>\n",
       "</div>"
      ],
      "text/plain": [
       "   EmployeeID        Name  Age Department  Salary   StartDate\n",
       "4           5  Mark Green   40      Sales   65000  2017-03-11\n",
       "5           6  Anna White   32         IT   72000  2016-04-20\n",
       "6           7   Tom Black   38      Sales   68000  2017-09-30"
      ]
     },
     "execution_count": 375,
     "metadata": {},
     "output_type": "execute_result"
    }
   ],
   "source": [
    "de.tail(3)\n"
   ]
  },
  {
   "cell_type": "code",
   "execution_count": 376,
   "metadata": {},
   "outputs": [
    {
     "data": {
      "text/plain": [
       "EmployeeID     int64\n",
       "Name          object\n",
       "Age            int64\n",
       "Department    object\n",
       "Salary         int64\n",
       "StartDate     object\n",
       "dtype: object"
      ]
     },
     "execution_count": 376,
     "metadata": {},
     "output_type": "execute_result"
    }
   ],
   "source": [
    "de.dtypes"
   ]
  },
  {
   "cell_type": "code",
   "execution_count": 377,
   "metadata": {},
   "outputs": [
    {
     "data": {
      "text/plain": [
       "35.142857142857146"
      ]
     },
     "execution_count": 377,
     "metadata": {},
     "output_type": "execute_result"
    }
   ],
   "source": [
    "de[\"Age\"].mean()"
   ]
  },
  {
   "cell_type": "code",
   "execution_count": 378,
   "metadata": {},
   "outputs": [
    {
     "data": {
      "text/plain": [
       "80000"
      ]
     },
     "execution_count": 378,
     "metadata": {},
     "output_type": "execute_result"
    }
   ],
   "source": [
    "de[\"Salary\"].max()"
   ]
  },
  {
   "cell_type": "code",
   "execution_count": 379,
   "metadata": {},
   "outputs": [
    {
     "data": {
      "text/plain": [
       "'2015-08-01'"
      ]
     },
     "execution_count": 379,
     "metadata": {},
     "output_type": "execute_result"
    }
   ],
   "source": [
    "de[\"StartDate\"].min()"
   ]
  },
  {
   "cell_type": "code",
   "execution_count": 380,
   "metadata": {},
   "outputs": [
    {
     "data": {
      "text/plain": [
       "1      Jane Doe\n",
       "2     Sam Brown\n",
       "5    Anna White\n",
       "Name: Name, dtype: object"
      ]
     },
     "execution_count": 380,
     "metadata": {},
     "output_type": "execute_result"
    }
   ],
   "source": [
    "de[de[\"Department\"] == \"IT\"][\"Name\"]\n"
   ]
  },
  {
   "cell_type": "code",
   "execution_count": 381,
   "metadata": {},
   "outputs": [
    {
     "data": {
      "text/html": [
       "<div>\n",
       "<style scoped>\n",
       "    .dataframe tbody tr th:only-of-type {\n",
       "        vertical-align: middle;\n",
       "    }\n",
       "\n",
       "    .dataframe tbody tr th {\n",
       "        vertical-align: top;\n",
       "    }\n",
       "\n",
       "    .dataframe thead th {\n",
       "        text-align: right;\n",
       "    }\n",
       "</style>\n",
       "<table border=\"1\" class=\"dataframe\">\n",
       "  <thead>\n",
       "    <tr style=\"text-align: right;\">\n",
       "      <th></th>\n",
       "      <th>EmployeeID</th>\n",
       "      <th>Name</th>\n",
       "      <th>Age</th>\n",
       "      <th>Department</th>\n",
       "      <th>Salary</th>\n",
       "      <th>StartDate</th>\n",
       "    </tr>\n",
       "  </thead>\n",
       "  <tbody>\n",
       "    <tr>\n",
       "      <th>0</th>\n",
       "      <td>1</td>\n",
       "      <td>John Smith</td>\n",
       "      <td>28</td>\n",
       "      <td>HR</td>\n",
       "      <td>50000</td>\n",
       "      <td>2019-01-15</td>\n",
       "    </tr>\n",
       "    <tr>\n",
       "      <th>3</th>\n",
       "      <td>4</td>\n",
       "      <td>Lisa Ray</td>\n",
       "      <td>29</td>\n",
       "      <td>HR</td>\n",
       "      <td>52000</td>\n",
       "      <td>2020-10-12</td>\n",
       "    </tr>\n",
       "    <tr>\n",
       "      <th>4</th>\n",
       "      <td>5</td>\n",
       "      <td>Mark Green</td>\n",
       "      <td>40</td>\n",
       "      <td>Sales</td>\n",
       "      <td>65000</td>\n",
       "      <td>2017-03-11</td>\n",
       "    </tr>\n",
       "    <tr>\n",
       "      <th>6</th>\n",
       "      <td>7</td>\n",
       "      <td>Tom Black</td>\n",
       "      <td>38</td>\n",
       "      <td>Sales</td>\n",
       "      <td>68000</td>\n",
       "      <td>2017-09-30</td>\n",
       "    </tr>\n",
       "    <tr>\n",
       "      <th>5</th>\n",
       "      <td>6</td>\n",
       "      <td>Anna White</td>\n",
       "      <td>32</td>\n",
       "      <td>IT</td>\n",
       "      <td>72000</td>\n",
       "      <td>2016-04-20</td>\n",
       "    </tr>\n",
       "    <tr>\n",
       "      <th>1</th>\n",
       "      <td>2</td>\n",
       "      <td>Jane Doe</td>\n",
       "      <td>34</td>\n",
       "      <td>IT</td>\n",
       "      <td>75000</td>\n",
       "      <td>2018-05-23</td>\n",
       "    </tr>\n",
       "    <tr>\n",
       "      <th>2</th>\n",
       "      <td>3</td>\n",
       "      <td>Sam Brown</td>\n",
       "      <td>45</td>\n",
       "      <td>IT</td>\n",
       "      <td>80000</td>\n",
       "      <td>2015-08-01</td>\n",
       "    </tr>\n",
       "  </tbody>\n",
       "</table>\n",
       "</div>"
      ],
      "text/plain": [
       "   EmployeeID        Name  Age Department  Salary   StartDate\n",
       "0           1  John Smith   28         HR   50000  2019-01-15\n",
       "3           4    Lisa Ray   29         HR   52000  2020-10-12\n",
       "4           5  Mark Green   40      Sales   65000  2017-03-11\n",
       "6           7   Tom Black   38      Sales   68000  2017-09-30\n",
       "5           6  Anna White   32         IT   72000  2016-04-20\n",
       "1           2    Jane Doe   34         IT   75000  2018-05-23\n",
       "2           3   Sam Brown   45         IT   80000  2015-08-01"
      ]
     },
     "execution_count": 381,
     "metadata": {},
     "output_type": "execute_result"
    }
   ],
   "source": [
    "de.sort_values(by=\"Salary\")"
   ]
  },
  {
   "cell_type": "code",
   "execution_count": 382,
   "metadata": {},
   "outputs": [
    {
     "data": {
      "text/html": [
       "<div>\n",
       "<style scoped>\n",
       "    .dataframe tbody tr th:only-of-type {\n",
       "        vertical-align: middle;\n",
       "    }\n",
       "\n",
       "    .dataframe tbody tr th {\n",
       "        vertical-align: top;\n",
       "    }\n",
       "\n",
       "    .dataframe thead th {\n",
       "        text-align: right;\n",
       "    }\n",
       "</style>\n",
       "<table border=\"1\" class=\"dataframe\">\n",
       "  <thead>\n",
       "    <tr style=\"text-align: right;\">\n",
       "      <th></th>\n",
       "      <th>EmployeeID</th>\n",
       "      <th>Name</th>\n",
       "      <th>Age</th>\n",
       "      <th>Department</th>\n",
       "      <th>Salary</th>\n",
       "      <th>StartDate</th>\n",
       "    </tr>\n",
       "  </thead>\n",
       "  <tbody>\n",
       "    <tr>\n",
       "      <th>1</th>\n",
       "      <td>2</td>\n",
       "      <td>Jane Doe</td>\n",
       "      <td>34</td>\n",
       "      <td>IT</td>\n",
       "      <td>75000</td>\n",
       "      <td>2018-05-23</td>\n",
       "    </tr>\n",
       "    <tr>\n",
       "      <th>2</th>\n",
       "      <td>3</td>\n",
       "      <td>Sam Brown</td>\n",
       "      <td>45</td>\n",
       "      <td>IT</td>\n",
       "      <td>80000</td>\n",
       "      <td>2015-08-01</td>\n",
       "    </tr>\n",
       "    <tr>\n",
       "      <th>5</th>\n",
       "      <td>6</td>\n",
       "      <td>Anna White</td>\n",
       "      <td>32</td>\n",
       "      <td>IT</td>\n",
       "      <td>72000</td>\n",
       "      <td>2016-04-20</td>\n",
       "    </tr>\n",
       "  </tbody>\n",
       "</table>\n",
       "</div>"
      ],
      "text/plain": [
       "   EmployeeID        Name  Age Department  Salary   StartDate\n",
       "1           2    Jane Doe   34         IT   75000  2018-05-23\n",
       "2           3   Sam Brown   45         IT   80000  2015-08-01\n",
       "5           6  Anna White   32         IT   72000  2016-04-20"
      ]
     },
     "execution_count": 382,
     "metadata": {},
     "output_type": "execute_result"
    }
   ],
   "source": [
    "de[de[\"Salary\"] > 70000]"
   ]
  },
  {
   "cell_type": "code",
   "execution_count": 383,
   "metadata": {},
   "outputs": [
    {
     "data": {
      "text/plain": [
       "Department\n",
       "HR       2\n",
       "IT       3\n",
       "Sales    2\n",
       "dtype: int64"
      ]
     },
     "execution_count": 383,
     "metadata": {},
     "output_type": "execute_result"
    }
   ],
   "source": [
    "de.groupby([\"Department\"]).size()\n"
   ]
  },
  {
   "cell_type": "code",
   "execution_count": 384,
   "metadata": {},
   "outputs": [
    {
     "data": {
      "text/plain": [
       "51000.0"
      ]
     },
     "execution_count": 384,
     "metadata": {},
     "output_type": "execute_result"
    }
   ],
   "source": [
    "de[de[\"Department\"] == \"HR\"][\"Salary\"].mean()\n"
   ]
  },
  {
   "cell_type": "code",
   "execution_count": 385,
   "metadata": {},
   "outputs": [
    {
     "data": {
      "text/plain": [
       "5"
      ]
     },
     "execution_count": 385,
     "metadata": {},
     "output_type": "execute_result"
    }
   ],
   "source": [
    "len(de[de[\"Age\"] > 30])"
   ]
  },
  {
   "cell_type": "code",
   "execution_count": 386,
   "metadata": {},
   "outputs": [
    {
     "data": {
      "text/plain": [
       "2    Sam Brown\n",
       "Name: Name, dtype: object"
      ]
     },
     "execution_count": 386,
     "metadata": {},
     "output_type": "execute_result"
    }
   ],
   "source": [
    "de[de[\"StartDate\"] == min(de[\"StartDate\"])][\"Name\"]\n"
   ]
  },
  {
   "cell_type": "code",
   "execution_count": 387,
   "metadata": {},
   "outputs": [
    {
     "data": {
      "text/html": [
       "<div>\n",
       "<style scoped>\n",
       "    .dataframe tbody tr th:only-of-type {\n",
       "        vertical-align: middle;\n",
       "    }\n",
       "\n",
       "    .dataframe tbody tr th {\n",
       "        vertical-align: top;\n",
       "    }\n",
       "\n",
       "    .dataframe thead th {\n",
       "        text-align: right;\n",
       "    }\n",
       "</style>\n",
       "<table border=\"1\" class=\"dataframe\">\n",
       "  <thead>\n",
       "    <tr style=\"text-align: right;\">\n",
       "      <th></th>\n",
       "      <th>EmployeeID</th>\n",
       "      <th>Name</th>\n",
       "      <th>Age</th>\n",
       "      <th>Department</th>\n",
       "      <th>Salary</th>\n",
       "      <th>StartDate</th>\n",
       "      <th>YearsOfWork</th>\n",
       "    </tr>\n",
       "  </thead>\n",
       "  <tbody>\n",
       "    <tr>\n",
       "      <th>0</th>\n",
       "      <td>1</td>\n",
       "      <td>John Smith</td>\n",
       "      <td>28</td>\n",
       "      <td>HR</td>\n",
       "      <td>50000</td>\n",
       "      <td>2019-01-15</td>\n",
       "      <td>5</td>\n",
       "    </tr>\n",
       "    <tr>\n",
       "      <th>1</th>\n",
       "      <td>2</td>\n",
       "      <td>Jane Doe</td>\n",
       "      <td>34</td>\n",
       "      <td>IT</td>\n",
       "      <td>75000</td>\n",
       "      <td>2018-05-23</td>\n",
       "      <td>6</td>\n",
       "    </tr>\n",
       "    <tr>\n",
       "      <th>2</th>\n",
       "      <td>3</td>\n",
       "      <td>Sam Brown</td>\n",
       "      <td>45</td>\n",
       "      <td>IT</td>\n",
       "      <td>80000</td>\n",
       "      <td>2015-08-01</td>\n",
       "      <td>8</td>\n",
       "    </tr>\n",
       "    <tr>\n",
       "      <th>3</th>\n",
       "      <td>4</td>\n",
       "      <td>Lisa Ray</td>\n",
       "      <td>29</td>\n",
       "      <td>HR</td>\n",
       "      <td>52000</td>\n",
       "      <td>2020-10-12</td>\n",
       "      <td>3</td>\n",
       "    </tr>\n",
       "    <tr>\n",
       "      <th>4</th>\n",
       "      <td>5</td>\n",
       "      <td>Mark Green</td>\n",
       "      <td>40</td>\n",
       "      <td>Sales</td>\n",
       "      <td>65000</td>\n",
       "      <td>2017-03-11</td>\n",
       "      <td>7</td>\n",
       "    </tr>\n",
       "    <tr>\n",
       "      <th>5</th>\n",
       "      <td>6</td>\n",
       "      <td>Anna White</td>\n",
       "      <td>32</td>\n",
       "      <td>IT</td>\n",
       "      <td>72000</td>\n",
       "      <td>2016-04-20</td>\n",
       "      <td>8</td>\n",
       "    </tr>\n",
       "    <tr>\n",
       "      <th>6</th>\n",
       "      <td>7</td>\n",
       "      <td>Tom Black</td>\n",
       "      <td>38</td>\n",
       "      <td>Sales</td>\n",
       "      <td>68000</td>\n",
       "      <td>2017-09-30</td>\n",
       "      <td>6</td>\n",
       "    </tr>\n",
       "  </tbody>\n",
       "</table>\n",
       "</div>"
      ],
      "text/plain": [
       "   EmployeeID        Name  Age Department  Salary  StartDate  YearsOfWork\n",
       "0           1  John Smith   28         HR   50000 2019-01-15            5\n",
       "1           2    Jane Doe   34         IT   75000 2018-05-23            6\n",
       "2           3   Sam Brown   45         IT   80000 2015-08-01            8\n",
       "3           4    Lisa Ray   29         HR   52000 2020-10-12            3\n",
       "4           5  Mark Green   40      Sales   65000 2017-03-11            7\n",
       "5           6  Anna White   32         IT   72000 2016-04-20            8\n",
       "6           7   Tom Black   38      Sales   68000 2017-09-30            6"
      ]
     },
     "execution_count": 387,
     "metadata": {},
     "output_type": "execute_result"
    }
   ],
   "source": [
    "de[\"StartDate\"] = pd.to_datetime(de[\"StartDate\"]) # преобразовываем текущую дату в datetime что бы иметь возможность отнимать от формата текущей даты\n",
    "today = datetime.today()\n",
    "de[\"YearsOfWork\"] = (today - de[\"StartDate\"]).dt.days // 365 # выявляем только года и округляем до 2 знаков после запятой\n",
    "de"
   ]
  },
  {
   "cell_type": "code",
   "execution_count": 388,
   "metadata": {},
   "outputs": [
    {
     "data": {
      "text/html": [
       "<div>\n",
       "<style scoped>\n",
       "    .dataframe tbody tr th:only-of-type {\n",
       "        vertical-align: middle;\n",
       "    }\n",
       "\n",
       "    .dataframe tbody tr th {\n",
       "        vertical-align: top;\n",
       "    }\n",
       "\n",
       "    .dataframe thead th {\n",
       "        text-align: right;\n",
       "    }\n",
       "</style>\n",
       "<table border=\"1\" class=\"dataframe\">\n",
       "  <thead>\n",
       "    <tr style=\"text-align: right;\">\n",
       "      <th></th>\n",
       "      <th>EmployeeID</th>\n",
       "      <th>Name</th>\n",
       "      <th>Age</th>\n",
       "      <th>Department</th>\n",
       "      <th>Salary</th>\n",
       "      <th>StartDate</th>\n",
       "      <th>YearsOfWork</th>\n",
       "    </tr>\n",
       "  </thead>\n",
       "  <tbody>\n",
       "    <tr>\n",
       "      <th>4</th>\n",
       "      <td>5</td>\n",
       "      <td>Mark Green</td>\n",
       "      <td>40</td>\n",
       "      <td>Sales</td>\n",
       "      <td>65000</td>\n",
       "      <td>2017-03-11</td>\n",
       "      <td>7</td>\n",
       "    </tr>\n",
       "    <tr>\n",
       "      <th>6</th>\n",
       "      <td>7</td>\n",
       "      <td>Tom Black</td>\n",
       "      <td>38</td>\n",
       "      <td>Sales</td>\n",
       "      <td>68000</td>\n",
       "      <td>2017-09-30</td>\n",
       "      <td>6</td>\n",
       "    </tr>\n",
       "  </tbody>\n",
       "</table>\n",
       "</div>"
      ],
      "text/plain": [
       "   EmployeeID        Name  Age Department  Salary  StartDate  YearsOfWork\n",
       "4           5  Mark Green   40      Sales   65000 2017-03-11            7\n",
       "6           7   Tom Black   38      Sales   68000 2017-09-30            6"
      ]
     },
     "execution_count": 388,
     "metadata": {},
     "output_type": "execute_result"
    }
   ],
   "source": [
    "de[de[\"StartDate\"].dt.year == 2017] # выбираем только год"
   ]
  },
  {
   "cell_type": "code",
   "execution_count": 389,
   "metadata": {},
   "outputs": [
    {
     "data": {
      "text/plain": [
       "2    Sam Brown\n",
       "Name: Name, dtype: object"
      ]
     },
     "execution_count": 389,
     "metadata": {},
     "output_type": "execute_result"
    }
   ],
   "source": [
    "de[de[\"Salary\"] == max(de[\"Salary\"])][\"Name\"]"
   ]
  },
  {
   "cell_type": "code",
   "execution_count": 390,
   "metadata": {},
   "outputs": [
    {
     "data": {
      "text/plain": [
       "array(['HR', 'IT', 'Sales'], dtype=object)"
      ]
     },
     "execution_count": 390,
     "metadata": {},
     "output_type": "execute_result"
    }
   ],
   "source": [
    "de[\"Department\"].unique()"
   ]
  },
  {
   "cell_type": "code",
   "execution_count": 391,
   "metadata": {},
   "outputs": [
    {
     "data": {
      "text/plain": [
       "Department\n",
       "HR       28.5\n",
       "IT       37.0\n",
       "Sales    39.0\n",
       "Name: Age, dtype: float64"
      ]
     },
     "execution_count": 391,
     "metadata": {},
     "output_type": "execute_result"
    }
   ],
   "source": [
    "de.groupby(\"Department\")[\"Age\"].mean()"
   ]
  },
  {
   "cell_type": "code",
   "execution_count": 392,
   "metadata": {},
   "outputs": [
    {
     "data": {
      "text/plain": [
       "(Timestamp('2015-08-01 00:00:00'),\n",
       " 2    Sam Brown\n",
       " Name: Name, dtype: object)"
      ]
     },
     "execution_count": 392,
     "metadata": {},
     "output_type": "execute_result"
    }
   ],
   "source": [
    "min(de.groupby(\"StartDate\")[\"Name\"])"
   ]
  }
 ],
 "metadata": {
  "kernelspec": {
   "display_name": "Python 3",
   "language": "python",
   "name": "python3"
  },
  "language_info": {
   "codemirror_mode": {
    "name": "ipython",
    "version": 3
   },
   "file_extension": ".py",
   "mimetype": "text/x-python",
   "name": "python",
   "nbconvert_exporter": "python",
   "pygments_lexer": "ipython3",
   "version": "3.12.3"
  }
 },
 "nbformat": 4,
 "nbformat_minor": 2
}
