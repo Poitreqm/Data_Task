{
 "cells": [
  {
   "cell_type": "markdown",
   "metadata": {},
   "source": [
    "- 1. Create a Data Frame with the names of students and their grades in three subjects (mathematics, physics, literature).\n",
    "- 2. From the created DataFrame, select the grades of all students in the subject \"mathematics\".\n",
    "- 3. Find all students who have a physics score > 6.\n",
    "- 4. Add a new column that will contain the average score of each student in all subjects.\n",
    "- 5. Delete all rows from the DataFrame with data about students who have an average score below 50.\n",
    "- 6. Output the average age of the students.\n",
    "- 7. Bring out students who have a math score above 5.\n",
    "- 8. Add a new total column containing the sum of all the grades of each student.\n",
    "- 9. Withdraw students living in Moscow.\n",
    "- 10. Sort the DataFrame by math score in descending order.\n",
    "- 11. Bring out the student with the highest grade in physics.\n",
    "- 12. Output the average grade in literature among students under the age of 16.\n",
    "- 13. Create a new Data Frame containing only the names and cities of the students.\n",
    "- 14. Output the number of students from each city.\n",
    "- 15. Swap math and physics grades for all students.\n",
    "- 16. Bring out students who have an average grade in all subjects above 6.\n",
    "- 17. Create a Data Frame that will contain only students with grades in biology and art above 7.\n",
    "- 18. Print the names of all students and their grades in mathematics, physics and literature.\n",
    "- 19. Count the number of students under the age of 16.\n",
    "- 20. Bring out students who have a history score above 6.\n",
    "- 21. Add an average column that will contain the average of each student's grades in all subjects.\n",
    "- 22. To withdraw students from the cities of Moscow and Berlin\n",
    "- 23. Find a student with a minimum grade in literature and print his name and city.\n",
    "- 24. Print the names of the students and their average grades in the subjects, sorted in descending order of the average value.\n",
    "- 25. Create a new Data Frame containing only the names and grades of students in mathematics, physics, and literature who have a physics score above 5.\n",
    "- 26. Bring out students who have all grades above 3.\n",
    "- 27. Add a new pass_fail column, which will contain the value Pass if all the student's grades are above 4, and Fail otherwise.\n",
    "- 28. Find the average scores for each subject for each city.\n",
    "- 29. Find the student with the highest and lowest score in each subject.\n",
    "- 30. Find the student with the highest grade point average in all subjects.\n",
    "- 31. Find the average score in each subject for students of different ages.\n",
    "- 32. Find the correlation between grades in different subjects.\n",
    "- 33. Find the percentage of students who have an average score in all subjects above 7.\n",
    "- 34. Find the top 3 cities by the average score of all students.\n",
    "- 35. Build a distribution of grades for each subject.\n",
    "- 36. Determine which city has the highest math average score.\n",
    "- 37. Find the difference between the highest and lowest average score in each subject.\n",
    "- 38. Find the average grades (in all subjects) of students from Burgas.\n",
    "- 39. Identify the student with the highest average grade.\n",
    "- 40. Count the number of students who have an average grade above 7.\n",
    "- 41. Find the student with the highest total of grades in subjects, including the ability to take into account weights for various subjects.\n",
    "- 42. Calculate the average grade in the subject only among students living in the capital (Burgas).\n",
    "- 43. Calculate the average grades in each subject for all students.\n",
    "- 44. Sort students by average grade in all subjects in descending order and output the top 3 students.\n",
    "- 45. Select all students whose math scores are above 5.\n",
    "- 46. Group students by city and output the number of students in each city.\n",
    "- 47. Add a column with total academic performance (the sum of all grades) for each student and output a table with the name, city and total academic performance.\n",
    "- 48. Identify the student with the highest grade in each subject and output his name and city.\n",
    "- 49. Build a histogram of average grades in all subjects for all students.\n",
    "- 50. Find students who have a higher grade in history than in mathematics, and output their names and grades in both subjects."
   ]
  },
  {
   "cell_type": "code",
   "execution_count": 213,
   "metadata": {},
   "outputs": [],
   "source": [
    "import pandas as pd\n",
    "import seaborn as sns\n",
    "import matplotlib.pyplot as plt"
   ]
  },
  {
   "cell_type": "code",
   "execution_count": 214,
   "metadata": {},
   "outputs": [
    {
     "name": "stdout",
     "output_type": "stream",
     "text": [
      "      name     city  mathematics  physics  literature  age  history  biology  \\\n",
      "0     Ivan   Moscow            6        2           3   16        4        7   \n",
      "1  Evelina   Burgas            7        5           6   15        8        5   \n",
      "2    Peter  Plovdiv            1        8           7   16        5        8   \n",
      "3  Georgii    Sofia            3        9           8   15        9        6   \n",
      "4    Maxim   Berlin            9        6           4   16        7        9   \n",
      "5     Asen   Burgas            5        4           2   17        8        4   \n",
      "\n",
      "   art  \n",
      "0    6  \n",
      "1    9  \n",
      "2    7  \n",
      "3    8  \n",
      "4    7  \n",
      "5    8  \n"
     ]
    }
   ],
   "source": [
    "t = {\n",
    "    \"name\": [\"Ivan\", \"Evelina\", \"Peter\", \"Georgii\", \"Maxim\", \"Asen\"],\n",
    "    \"city\": [\"Moscow\", \"Burgas\", \"Plovdiv\", \"Sofia\", \"Berlin\", \"Burgas\"],\n",
    "    \"mathematics\": [6, 7, 1, 3, 9, 5],\n",
    "    \"physics\": [2, 5, 8, 9, 6, 4],\n",
    "    \"literature\": [3, 6, 7, 8, 4, 2],\n",
    "    \"age\": [16, 15, 16, 15, 16, 17],\n",
    "    \"history\": [4, 8, 5, 9, 7, 8],\n",
    "    \"biology\": [7, 5, 8, 6, 9, 4],\n",
    "    \"art\": [6, 9, 7, 8, 7, 8]\n",
    "}\n",
    "\n",
    "d = pd.DataFrame(t)\n",
    "\n",
    "print(d)"
   ]
  },
  {
   "cell_type": "code",
   "execution_count": 215,
   "metadata": {},
   "outputs": [
    {
     "name": "stdout",
     "output_type": "stream",
     "text": [
      "0    6\n",
      "1    7\n",
      "2    1\n",
      "3    3\n",
      "4    9\n",
      "5    5\n",
      "Name: mathematics, dtype: int64\n"
     ]
    }
   ],
   "source": [
    "print(d[\"mathematics\"])"
   ]
  },
  {
   "cell_type": "code",
   "execution_count": 216,
   "metadata": {},
   "outputs": [
    {
     "name": "stdout",
     "output_type": "stream",
     "text": [
      "      name     city  mathematics  physics  literature  age  history  biology  \\\n",
      "2    Peter  Plovdiv            1        8           7   16        5        8   \n",
      "3  Georgii    Sofia            3        9           8   15        9        6   \n",
      "\n",
      "   art  \n",
      "2    7  \n",
      "3    8  \n"
     ]
    }
   ],
   "source": [
    "s = d[d[\"physics\"] > 6]\n",
    "print(s)"
   ]
  },
  {
   "cell_type": "code",
   "execution_count": 217,
   "metadata": {},
   "outputs": [
    {
     "name": "stdout",
     "output_type": "stream",
     "text": [
      "      name     city  mathematics  physics  literature  age  history  biology  \\\n",
      "0     Ivan   Moscow            6        2           3   16        4        7   \n",
      "1  Evelina   Burgas            7        5           6   15        8        5   \n",
      "2    Peter  Plovdiv            1        8           7   16        5        8   \n",
      "3  Georgii    Sofia            3        9           8   15        9        6   \n",
      "4    Maxim   Berlin            9        6           4   16        7        9   \n",
      "5     Asen   Burgas            5        4           2   17        8        4   \n",
      "\n",
      "   art   average  \n",
      "0    6  4.666667  \n",
      "1    9  6.666667  \n",
      "2    7  6.000000  \n",
      "3    8  7.166667  \n",
      "4    7  7.000000  \n",
      "5    8  5.166667  \n"
     ]
    }
   ],
   "source": [
    "d[\"average\"] = (d[\"mathematics\"] + d[\"physics\"] + d[\"literature\"] + d[\"history\"] + d[\"biology\"] + d[\"art\"]) / 6\n",
    "print(d)"
   ]
  },
  {
   "cell_type": "code",
   "execution_count": 218,
   "metadata": {},
   "outputs": [
    {
     "name": "stdout",
     "output_type": "stream",
     "text": [
      "      name     city  mathematics  physics  literature  age  history  biology  \\\n",
      "0     Ivan   Moscow            6        2           3   16        4        7   \n",
      "1  Evelina   Burgas            7        5           6   15        8        5   \n",
      "2    Peter  Plovdiv            1        8           7   16        5        8   \n",
      "3  Georgii    Sofia            3        9           8   15        9        6   \n",
      "4    Maxim   Berlin            9        6           4   16        7        9   \n",
      "5     Asen   Burgas            5        4           2   17        8        4   \n",
      "\n",
      "   art   average  average mathematics  \n",
      "0    6  4.666667             5.166667  \n",
      "1    9  6.666667             5.166667  \n",
      "2    7  6.000000             5.166667  \n",
      "3    8  7.166667             5.166667  \n",
      "4    7  7.000000             5.166667  \n",
      "5    8  5.166667             5.166667  \n"
     ]
    }
   ],
   "source": [
    "d[\"average mathematics\"] = sum(d[\"mathematics\"]) / len(d[\"mathematics\"])\n",
    "print(d)"
   ]
  },
  {
   "cell_type": "code",
   "execution_count": 219,
   "metadata": {},
   "outputs": [
    {
     "name": "stdout",
     "output_type": "stream",
     "text": [
      "      name    city  mathematics  physics  literature  age  history  biology  \\\n",
      "0     Ivan  Moscow            6        2           3   16        4        7   \n",
      "1  Evelina  Burgas            7        5           6   15        8        5   \n",
      "4    Maxim  Berlin            9        6           4   16        7        9   \n",
      "5     Asen  Burgas            5        4           2   17        8        4   \n",
      "\n",
      "   art   average  average mathematics  \n",
      "0    6  4.666667             5.166667  \n",
      "1    9  6.666667             5.166667  \n",
      "4    7  7.000000             5.166667  \n",
      "5    8  5.166667             5.166667  \n"
     ]
    }
   ],
   "source": [
    "t = d.loc[d[\"physics\"] < 8]\n",
    "print(t)"
   ]
  },
  {
   "cell_type": "code",
   "execution_count": 220,
   "metadata": {},
   "outputs": [
    {
     "data": {
      "text/plain": [
       "15.833333333333334"
      ]
     },
     "execution_count": 220,
     "metadata": {},
     "output_type": "execute_result"
    }
   ],
   "source": [
    "d[\"age\"].mean()"
   ]
  },
  {
   "cell_type": "code",
   "execution_count": 221,
   "metadata": {},
   "outputs": [
    {
     "data": {
      "text/html": [
       "<div>\n",
       "<style scoped>\n",
       "    .dataframe tbody tr th:only-of-type {\n",
       "        vertical-align: middle;\n",
       "    }\n",
       "\n",
       "    .dataframe tbody tr th {\n",
       "        vertical-align: top;\n",
       "    }\n",
       "\n",
       "    .dataframe thead th {\n",
       "        text-align: right;\n",
       "    }\n",
       "</style>\n",
       "<table border=\"1\" class=\"dataframe\">\n",
       "  <thead>\n",
       "    <tr style=\"text-align: right;\">\n",
       "      <th></th>\n",
       "      <th>name</th>\n",
       "      <th>city</th>\n",
       "      <th>mathematics</th>\n",
       "      <th>physics</th>\n",
       "      <th>literature</th>\n",
       "      <th>age</th>\n",
       "      <th>history</th>\n",
       "      <th>biology</th>\n",
       "      <th>art</th>\n",
       "      <th>average</th>\n",
       "      <th>average mathematics</th>\n",
       "    </tr>\n",
       "  </thead>\n",
       "  <tbody>\n",
       "    <tr>\n",
       "      <th>0</th>\n",
       "      <td>Ivan</td>\n",
       "      <td>Moscow</td>\n",
       "      <td>6</td>\n",
       "      <td>2</td>\n",
       "      <td>3</td>\n",
       "      <td>16</td>\n",
       "      <td>4</td>\n",
       "      <td>7</td>\n",
       "      <td>6</td>\n",
       "      <td>4.666667</td>\n",
       "      <td>5.166667</td>\n",
       "    </tr>\n",
       "  </tbody>\n",
       "</table>\n",
       "</div>"
      ],
      "text/plain": [
       "   name    city  mathematics  physics  literature  age  history  biology  art  \\\n",
       "0  Ivan  Moscow            6        2           3   16        4        7    6   \n",
       "\n",
       "    average  average mathematics  \n",
       "0  4.666667             5.166667  "
      ]
     },
     "execution_count": 221,
     "metadata": {},
     "output_type": "execute_result"
    }
   ],
   "source": [
    "d[d[\"city\"] == \"Moscow\"]"
   ]
  },
  {
   "cell_type": "code",
   "execution_count": 222,
   "metadata": {},
   "outputs": [
    {
     "data": {
      "text/html": [
       "<div>\n",
       "<style scoped>\n",
       "    .dataframe tbody tr th:only-of-type {\n",
       "        vertical-align: middle;\n",
       "    }\n",
       "\n",
       "    .dataframe tbody tr th {\n",
       "        vertical-align: top;\n",
       "    }\n",
       "\n",
       "    .dataframe thead th {\n",
       "        text-align: right;\n",
       "    }\n",
       "</style>\n",
       "<table border=\"1\" class=\"dataframe\">\n",
       "  <thead>\n",
       "    <tr style=\"text-align: right;\">\n",
       "      <th></th>\n",
       "      <th>name</th>\n",
       "      <th>city</th>\n",
       "      <th>mathematics</th>\n",
       "      <th>physics</th>\n",
       "      <th>literature</th>\n",
       "      <th>age</th>\n",
       "      <th>history</th>\n",
       "      <th>biology</th>\n",
       "      <th>art</th>\n",
       "      <th>average</th>\n",
       "      <th>average mathematics</th>\n",
       "      <th>total</th>\n",
       "    </tr>\n",
       "  </thead>\n",
       "  <tbody>\n",
       "    <tr>\n",
       "      <th>0</th>\n",
       "      <td>Ivan</td>\n",
       "      <td>Moscow</td>\n",
       "      <td>6</td>\n",
       "      <td>2</td>\n",
       "      <td>3</td>\n",
       "      <td>16</td>\n",
       "      <td>4</td>\n",
       "      <td>7</td>\n",
       "      <td>6</td>\n",
       "      <td>4.666667</td>\n",
       "      <td>5.166667</td>\n",
       "      <td>28</td>\n",
       "    </tr>\n",
       "    <tr>\n",
       "      <th>1</th>\n",
       "      <td>Evelina</td>\n",
       "      <td>Burgas</td>\n",
       "      <td>7</td>\n",
       "      <td>5</td>\n",
       "      <td>6</td>\n",
       "      <td>15</td>\n",
       "      <td>8</td>\n",
       "      <td>5</td>\n",
       "      <td>9</td>\n",
       "      <td>6.666667</td>\n",
       "      <td>5.166667</td>\n",
       "      <td>40</td>\n",
       "    </tr>\n",
       "    <tr>\n",
       "      <th>2</th>\n",
       "      <td>Peter</td>\n",
       "      <td>Plovdiv</td>\n",
       "      <td>1</td>\n",
       "      <td>8</td>\n",
       "      <td>7</td>\n",
       "      <td>16</td>\n",
       "      <td>5</td>\n",
       "      <td>8</td>\n",
       "      <td>7</td>\n",
       "      <td>6.000000</td>\n",
       "      <td>5.166667</td>\n",
       "      <td>36</td>\n",
       "    </tr>\n",
       "    <tr>\n",
       "      <th>3</th>\n",
       "      <td>Georgii</td>\n",
       "      <td>Sofia</td>\n",
       "      <td>3</td>\n",
       "      <td>9</td>\n",
       "      <td>8</td>\n",
       "      <td>15</td>\n",
       "      <td>9</td>\n",
       "      <td>6</td>\n",
       "      <td>8</td>\n",
       "      <td>7.166667</td>\n",
       "      <td>5.166667</td>\n",
       "      <td>43</td>\n",
       "    </tr>\n",
       "    <tr>\n",
       "      <th>4</th>\n",
       "      <td>Maxim</td>\n",
       "      <td>Berlin</td>\n",
       "      <td>9</td>\n",
       "      <td>6</td>\n",
       "      <td>4</td>\n",
       "      <td>16</td>\n",
       "      <td>7</td>\n",
       "      <td>9</td>\n",
       "      <td>7</td>\n",
       "      <td>7.000000</td>\n",
       "      <td>5.166667</td>\n",
       "      <td>42</td>\n",
       "    </tr>\n",
       "    <tr>\n",
       "      <th>5</th>\n",
       "      <td>Asen</td>\n",
       "      <td>Burgas</td>\n",
       "      <td>5</td>\n",
       "      <td>4</td>\n",
       "      <td>2</td>\n",
       "      <td>17</td>\n",
       "      <td>8</td>\n",
       "      <td>4</td>\n",
       "      <td>8</td>\n",
       "      <td>5.166667</td>\n",
       "      <td>5.166667</td>\n",
       "      <td>31</td>\n",
       "    </tr>\n",
       "  </tbody>\n",
       "</table>\n",
       "</div>"
      ],
      "text/plain": [
       "      name     city  mathematics  physics  literature  age  history  biology  \\\n",
       "0     Ivan   Moscow            6        2           3   16        4        7   \n",
       "1  Evelina   Burgas            7        5           6   15        8        5   \n",
       "2    Peter  Plovdiv            1        8           7   16        5        8   \n",
       "3  Georgii    Sofia            3        9           8   15        9        6   \n",
       "4    Maxim   Berlin            9        6           4   16        7        9   \n",
       "5     Asen   Burgas            5        4           2   17        8        4   \n",
       "\n",
       "   art   average  average mathematics  total  \n",
       "0    6  4.666667             5.166667     28  \n",
       "1    9  6.666667             5.166667     40  \n",
       "2    7  6.000000             5.166667     36  \n",
       "3    8  7.166667             5.166667     43  \n",
       "4    7  7.000000             5.166667     42  \n",
       "5    8  5.166667             5.166667     31  "
      ]
     },
     "execution_count": 222,
     "metadata": {},
     "output_type": "execute_result"
    }
   ],
   "source": [
    "d[\"total\"] = d[\"mathematics\"] + d[\"physics\"] + d[\"literature\"] + d[\"history\"] + d[\"biology\"] + d[\"art\"]\n",
    "d"
   ]
  },
  {
   "cell_type": "code",
   "execution_count": 223,
   "metadata": {},
   "outputs": [
    {
     "data": {
      "text/plain": [
       "2    1\n",
       "3    3\n",
       "5    5\n",
       "0    6\n",
       "1    7\n",
       "4    9\n",
       "Name: mathematics, dtype: int64"
      ]
     },
     "execution_count": 223,
     "metadata": {},
     "output_type": "execute_result"
    }
   ],
   "source": [
    "d[\"mathematics\"].sort_values(ascending=True)"
   ]
  },
  {
   "cell_type": "code",
   "execution_count": 224,
   "metadata": {},
   "outputs": [
    {
     "data": {
      "text/html": [
       "<div>\n",
       "<style scoped>\n",
       "    .dataframe tbody tr th:only-of-type {\n",
       "        vertical-align: middle;\n",
       "    }\n",
       "\n",
       "    .dataframe tbody tr th {\n",
       "        vertical-align: top;\n",
       "    }\n",
       "\n",
       "    .dataframe thead th {\n",
       "        text-align: right;\n",
       "    }\n",
       "</style>\n",
       "<table border=\"1\" class=\"dataframe\">\n",
       "  <thead>\n",
       "    <tr style=\"text-align: right;\">\n",
       "      <th></th>\n",
       "      <th>name</th>\n",
       "      <th>city</th>\n",
       "      <th>mathematics</th>\n",
       "      <th>physics</th>\n",
       "      <th>literature</th>\n",
       "      <th>age</th>\n",
       "      <th>history</th>\n",
       "      <th>biology</th>\n",
       "      <th>art</th>\n",
       "      <th>average</th>\n",
       "      <th>average mathematics</th>\n",
       "      <th>total</th>\n",
       "    </tr>\n",
       "  </thead>\n",
       "  <tbody>\n",
       "    <tr>\n",
       "      <th>3</th>\n",
       "      <td>Georgii</td>\n",
       "      <td>Sofia</td>\n",
       "      <td>3</td>\n",
       "      <td>9</td>\n",
       "      <td>8</td>\n",
       "      <td>15</td>\n",
       "      <td>9</td>\n",
       "      <td>6</td>\n",
       "      <td>8</td>\n",
       "      <td>7.166667</td>\n",
       "      <td>5.166667</td>\n",
       "      <td>43</td>\n",
       "    </tr>\n",
       "  </tbody>\n",
       "</table>\n",
       "</div>"
      ],
      "text/plain": [
       "      name   city  mathematics  physics  literature  age  history  biology  \\\n",
       "3  Georgii  Sofia            3        9           8   15        9        6   \n",
       "\n",
       "   art   average  average mathematics  total  \n",
       "3    8  7.166667             5.166667     43  "
      ]
     },
     "execution_count": 224,
     "metadata": {},
     "output_type": "execute_result"
    }
   ],
   "source": [
    "# или d.loc[d[\"physics\"].idxmax()] \n",
    "d[d[\"physics\"] == max(d[\"physics\"])]\n"
   ]
  },
  {
   "cell_type": "code",
   "execution_count": 225,
   "metadata": {},
   "outputs": [
    {
     "data": {
      "text/plain": [
       "7.0"
      ]
     },
     "execution_count": 225,
     "metadata": {},
     "output_type": "execute_result"
    }
   ],
   "source": [
    "d[d[\"age\"] < 16][\"literature\"].mean()"
   ]
  },
  {
   "cell_type": "code",
   "execution_count": 226,
   "metadata": {},
   "outputs": [
    {
     "data": {
      "text/html": [
       "<div>\n",
       "<style scoped>\n",
       "    .dataframe tbody tr th:only-of-type {\n",
       "        vertical-align: middle;\n",
       "    }\n",
       "\n",
       "    .dataframe tbody tr th {\n",
       "        vertical-align: top;\n",
       "    }\n",
       "\n",
       "    .dataframe thead th {\n",
       "        text-align: right;\n",
       "    }\n",
       "</style>\n",
       "<table border=\"1\" class=\"dataframe\">\n",
       "  <thead>\n",
       "    <tr style=\"text-align: right;\">\n",
       "      <th></th>\n",
       "      <th>name</th>\n",
       "      <th>city</th>\n",
       "    </tr>\n",
       "  </thead>\n",
       "  <tbody>\n",
       "    <tr>\n",
       "      <th>0</th>\n",
       "      <td>Ivan</td>\n",
       "      <td>Moscow</td>\n",
       "    </tr>\n",
       "    <tr>\n",
       "      <th>1</th>\n",
       "      <td>Evelina</td>\n",
       "      <td>Burgas</td>\n",
       "    </tr>\n",
       "    <tr>\n",
       "      <th>2</th>\n",
       "      <td>Peter</td>\n",
       "      <td>Plovdiv</td>\n",
       "    </tr>\n",
       "    <tr>\n",
       "      <th>3</th>\n",
       "      <td>Georgii</td>\n",
       "      <td>Sofia</td>\n",
       "    </tr>\n",
       "    <tr>\n",
       "      <th>4</th>\n",
       "      <td>Maxim</td>\n",
       "      <td>Berlin</td>\n",
       "    </tr>\n",
       "    <tr>\n",
       "      <th>5</th>\n",
       "      <td>Asen</td>\n",
       "      <td>Burgas</td>\n",
       "    </tr>\n",
       "  </tbody>\n",
       "</table>\n",
       "</div>"
      ],
      "text/plain": [
       "      name     city\n",
       "0     Ivan   Moscow\n",
       "1  Evelina   Burgas\n",
       "2    Peter  Plovdiv\n",
       "3  Georgii    Sofia\n",
       "4    Maxim   Berlin\n",
       "5     Asen   Burgas"
      ]
     },
     "execution_count": 226,
     "metadata": {},
     "output_type": "execute_result"
    }
   ],
   "source": [
    "new_d = d[[\"name\", \"city\"]]\n",
    "new_d"
   ]
  },
  {
   "cell_type": "code",
   "execution_count": 227,
   "metadata": {},
   "outputs": [
    {
     "data": {
      "text/plain": [
       "city\n",
       "Burgas     2\n",
       "Moscow     1\n",
       "Plovdiv    1\n",
       "Sofia      1\n",
       "Berlin     1\n",
       "Name: count, dtype: int64"
      ]
     },
     "execution_count": 227,
     "metadata": {},
     "output_type": "execute_result"
    }
   ],
   "source": [
    "d[\"city\"].value_counts()"
   ]
  },
  {
   "cell_type": "code",
   "execution_count": 228,
   "metadata": {},
   "outputs": [
    {
     "data": {
      "text/html": [
       "<div>\n",
       "<style scoped>\n",
       "    .dataframe tbody tr th:only-of-type {\n",
       "        vertical-align: middle;\n",
       "    }\n",
       "\n",
       "    .dataframe tbody tr th {\n",
       "        vertical-align: top;\n",
       "    }\n",
       "\n",
       "    .dataframe thead th {\n",
       "        text-align: right;\n",
       "    }\n",
       "</style>\n",
       "<table border=\"1\" class=\"dataframe\">\n",
       "  <thead>\n",
       "    <tr style=\"text-align: right;\">\n",
       "      <th></th>\n",
       "      <th>name</th>\n",
       "      <th>city</th>\n",
       "      <th>mathematics</th>\n",
       "      <th>physics</th>\n",
       "      <th>literature</th>\n",
       "      <th>age</th>\n",
       "      <th>history</th>\n",
       "      <th>biology</th>\n",
       "      <th>art</th>\n",
       "      <th>average</th>\n",
       "      <th>average mathematics</th>\n",
       "      <th>total</th>\n",
       "    </tr>\n",
       "  </thead>\n",
       "  <tbody>\n",
       "    <tr>\n",
       "      <th>0</th>\n",
       "      <td>Ivan</td>\n",
       "      <td>Moscow</td>\n",
       "      <td>2</td>\n",
       "      <td>6</td>\n",
       "      <td>3</td>\n",
       "      <td>16</td>\n",
       "      <td>4</td>\n",
       "      <td>7</td>\n",
       "      <td>6</td>\n",
       "      <td>4.666667</td>\n",
       "      <td>5.166667</td>\n",
       "      <td>28</td>\n",
       "    </tr>\n",
       "    <tr>\n",
       "      <th>1</th>\n",
       "      <td>Evelina</td>\n",
       "      <td>Burgas</td>\n",
       "      <td>5</td>\n",
       "      <td>7</td>\n",
       "      <td>6</td>\n",
       "      <td>15</td>\n",
       "      <td>8</td>\n",
       "      <td>5</td>\n",
       "      <td>9</td>\n",
       "      <td>6.666667</td>\n",
       "      <td>5.166667</td>\n",
       "      <td>40</td>\n",
       "    </tr>\n",
       "    <tr>\n",
       "      <th>2</th>\n",
       "      <td>Peter</td>\n",
       "      <td>Plovdiv</td>\n",
       "      <td>8</td>\n",
       "      <td>1</td>\n",
       "      <td>7</td>\n",
       "      <td>16</td>\n",
       "      <td>5</td>\n",
       "      <td>8</td>\n",
       "      <td>7</td>\n",
       "      <td>6.000000</td>\n",
       "      <td>5.166667</td>\n",
       "      <td>36</td>\n",
       "    </tr>\n",
       "    <tr>\n",
       "      <th>3</th>\n",
       "      <td>Georgii</td>\n",
       "      <td>Sofia</td>\n",
       "      <td>9</td>\n",
       "      <td>3</td>\n",
       "      <td>8</td>\n",
       "      <td>15</td>\n",
       "      <td>9</td>\n",
       "      <td>6</td>\n",
       "      <td>8</td>\n",
       "      <td>7.166667</td>\n",
       "      <td>5.166667</td>\n",
       "      <td>43</td>\n",
       "    </tr>\n",
       "    <tr>\n",
       "      <th>4</th>\n",
       "      <td>Maxim</td>\n",
       "      <td>Berlin</td>\n",
       "      <td>6</td>\n",
       "      <td>9</td>\n",
       "      <td>4</td>\n",
       "      <td>16</td>\n",
       "      <td>7</td>\n",
       "      <td>9</td>\n",
       "      <td>7</td>\n",
       "      <td>7.000000</td>\n",
       "      <td>5.166667</td>\n",
       "      <td>42</td>\n",
       "    </tr>\n",
       "    <tr>\n",
       "      <th>5</th>\n",
       "      <td>Asen</td>\n",
       "      <td>Burgas</td>\n",
       "      <td>4</td>\n",
       "      <td>5</td>\n",
       "      <td>2</td>\n",
       "      <td>17</td>\n",
       "      <td>8</td>\n",
       "      <td>4</td>\n",
       "      <td>8</td>\n",
       "      <td>5.166667</td>\n",
       "      <td>5.166667</td>\n",
       "      <td>31</td>\n",
       "    </tr>\n",
       "  </tbody>\n",
       "</table>\n",
       "</div>"
      ],
      "text/plain": [
       "      name     city  mathematics  physics  literature  age  history  biology  \\\n",
       "0     Ivan   Moscow            2        6           3   16        4        7   \n",
       "1  Evelina   Burgas            5        7           6   15        8        5   \n",
       "2    Peter  Plovdiv            8        1           7   16        5        8   \n",
       "3  Georgii    Sofia            9        3           8   15        9        6   \n",
       "4    Maxim   Berlin            6        9           4   16        7        9   \n",
       "5     Asen   Burgas            4        5           2   17        8        4   \n",
       "\n",
       "   art   average  average mathematics  total  \n",
       "0    6  4.666667             5.166667     28  \n",
       "1    9  6.666667             5.166667     40  \n",
       "2    7  6.000000             5.166667     36  \n",
       "3    8  7.166667             5.166667     43  \n",
       "4    7  7.000000             5.166667     42  \n",
       "5    8  5.166667             5.166667     31  "
      ]
     },
     "execution_count": 228,
     "metadata": {},
     "output_type": "execute_result"
    }
   ],
   "source": [
    "d[\"mathematics\"], d[\"physics\"] = d[\"physics\"], d[\"mathematics\"]\n",
    "\n",
    "d"
   ]
  },
  {
   "cell_type": "code",
   "execution_count": 229,
   "metadata": {},
   "outputs": [
    {
     "data": {
      "text/html": [
       "<div>\n",
       "<style scoped>\n",
       "    .dataframe tbody tr th:only-of-type {\n",
       "        vertical-align: middle;\n",
       "    }\n",
       "\n",
       "    .dataframe tbody tr th {\n",
       "        vertical-align: top;\n",
       "    }\n",
       "\n",
       "    .dataframe thead th {\n",
       "        text-align: right;\n",
       "    }\n",
       "</style>\n",
       "<table border=\"1\" class=\"dataframe\">\n",
       "  <thead>\n",
       "    <tr style=\"text-align: right;\">\n",
       "      <th></th>\n",
       "      <th>name</th>\n",
       "      <th>city</th>\n",
       "      <th>mathematics</th>\n",
       "      <th>physics</th>\n",
       "      <th>literature</th>\n",
       "      <th>age</th>\n",
       "      <th>history</th>\n",
       "      <th>biology</th>\n",
       "      <th>art</th>\n",
       "      <th>average</th>\n",
       "      <th>average mathematics</th>\n",
       "      <th>total</th>\n",
       "    </tr>\n",
       "  </thead>\n",
       "  <tbody>\n",
       "    <tr>\n",
       "      <th>1</th>\n",
       "      <td>Evelina</td>\n",
       "      <td>Burgas</td>\n",
       "      <td>5</td>\n",
       "      <td>7</td>\n",
       "      <td>6</td>\n",
       "      <td>15</td>\n",
       "      <td>8</td>\n",
       "      <td>5</td>\n",
       "      <td>9</td>\n",
       "      <td>6.666667</td>\n",
       "      <td>5.166667</td>\n",
       "      <td>40</td>\n",
       "    </tr>\n",
       "    <tr>\n",
       "      <th>3</th>\n",
       "      <td>Georgii</td>\n",
       "      <td>Sofia</td>\n",
       "      <td>9</td>\n",
       "      <td>3</td>\n",
       "      <td>8</td>\n",
       "      <td>15</td>\n",
       "      <td>9</td>\n",
       "      <td>6</td>\n",
       "      <td>8</td>\n",
       "      <td>7.166667</td>\n",
       "      <td>5.166667</td>\n",
       "      <td>43</td>\n",
       "    </tr>\n",
       "    <tr>\n",
       "      <th>4</th>\n",
       "      <td>Maxim</td>\n",
       "      <td>Berlin</td>\n",
       "      <td>6</td>\n",
       "      <td>9</td>\n",
       "      <td>4</td>\n",
       "      <td>16</td>\n",
       "      <td>7</td>\n",
       "      <td>9</td>\n",
       "      <td>7</td>\n",
       "      <td>7.000000</td>\n",
       "      <td>5.166667</td>\n",
       "      <td>42</td>\n",
       "    </tr>\n",
       "  </tbody>\n",
       "</table>\n",
       "</div>"
      ],
      "text/plain": [
       "      name    city  mathematics  physics  literature  age  history  biology  \\\n",
       "1  Evelina  Burgas            5        7           6   15        8        5   \n",
       "3  Georgii   Sofia            9        3           8   15        9        6   \n",
       "4    Maxim  Berlin            6        9           4   16        7        9   \n",
       "\n",
       "   art   average  average mathematics  total  \n",
       "1    9  6.666667             5.166667     40  \n",
       "3    8  7.166667             5.166667     43  \n",
       "4    7  7.000000             5.166667     42  "
      ]
     },
     "execution_count": 229,
     "metadata": {},
     "output_type": "execute_result"
    }
   ],
   "source": [
    "d[d[\"average\"] > 6]"
   ]
  },
  {
   "cell_type": "code",
   "execution_count": 230,
   "metadata": {},
   "outputs": [
    {
     "data": {
      "text/html": [
       "<div>\n",
       "<style scoped>\n",
       "    .dataframe tbody tr th:only-of-type {\n",
       "        vertical-align: middle;\n",
       "    }\n",
       "\n",
       "    .dataframe tbody tr th {\n",
       "        vertical-align: top;\n",
       "    }\n",
       "\n",
       "    .dataframe thead th {\n",
       "        text-align: right;\n",
       "    }\n",
       "</style>\n",
       "<table border=\"1\" class=\"dataframe\">\n",
       "  <thead>\n",
       "    <tr style=\"text-align: right;\">\n",
       "      <th></th>\n",
       "      <th>name</th>\n",
       "      <th>city</th>\n",
       "      <th>mathematics</th>\n",
       "      <th>physics</th>\n",
       "      <th>literature</th>\n",
       "      <th>age</th>\n",
       "      <th>history</th>\n",
       "      <th>biology</th>\n",
       "      <th>art</th>\n",
       "      <th>average</th>\n",
       "      <th>average mathematics</th>\n",
       "      <th>total</th>\n",
       "    </tr>\n",
       "  </thead>\n",
       "  <tbody>\n",
       "    <tr>\n",
       "      <th>2</th>\n",
       "      <td>Peter</td>\n",
       "      <td>Plovdiv</td>\n",
       "      <td>8</td>\n",
       "      <td>1</td>\n",
       "      <td>7</td>\n",
       "      <td>16</td>\n",
       "      <td>5</td>\n",
       "      <td>8</td>\n",
       "      <td>7</td>\n",
       "      <td>6.0</td>\n",
       "      <td>5.166667</td>\n",
       "      <td>36</td>\n",
       "    </tr>\n",
       "    <tr>\n",
       "      <th>4</th>\n",
       "      <td>Maxim</td>\n",
       "      <td>Berlin</td>\n",
       "      <td>6</td>\n",
       "      <td>9</td>\n",
       "      <td>4</td>\n",
       "      <td>16</td>\n",
       "      <td>7</td>\n",
       "      <td>9</td>\n",
       "      <td>7</td>\n",
       "      <td>7.0</td>\n",
       "      <td>5.166667</td>\n",
       "      <td>42</td>\n",
       "    </tr>\n",
       "  </tbody>\n",
       "</table>\n",
       "</div>"
      ],
      "text/plain": [
       "    name     city  mathematics  physics  literature  age  history  biology  \\\n",
       "2  Peter  Plovdiv            8        1           7   16        5        8   \n",
       "4  Maxim   Berlin            6        9           4   16        7        9   \n",
       "\n",
       "   art  average  average mathematics  total  \n",
       "2    7      6.0             5.166667     36  \n",
       "4    7      7.0             5.166667     42  "
      ]
     },
     "execution_count": 230,
     "metadata": {},
     "output_type": "execute_result"
    }
   ],
   "source": [
    "r = d[(d[\"biology\"] > 6) & (d[\"art\"] > 6)]\n",
    "r"
   ]
  },
  {
   "cell_type": "code",
   "execution_count": 231,
   "metadata": {},
   "outputs": [
    {
     "data": {
      "text/html": [
       "<div>\n",
       "<style scoped>\n",
       "    .dataframe tbody tr th:only-of-type {\n",
       "        vertical-align: middle;\n",
       "    }\n",
       "\n",
       "    .dataframe tbody tr th {\n",
       "        vertical-align: top;\n",
       "    }\n",
       "\n",
       "    .dataframe thead th {\n",
       "        text-align: right;\n",
       "    }\n",
       "</style>\n",
       "<table border=\"1\" class=\"dataframe\">\n",
       "  <thead>\n",
       "    <tr style=\"text-align: right;\">\n",
       "      <th></th>\n",
       "      <th>name</th>\n",
       "      <th>mathematics</th>\n",
       "      <th>literature</th>\n",
       "      <th>physics</th>\n",
       "    </tr>\n",
       "  </thead>\n",
       "  <tbody>\n",
       "    <tr>\n",
       "      <th>0</th>\n",
       "      <td>Ivan</td>\n",
       "      <td>2</td>\n",
       "      <td>3</td>\n",
       "      <td>6</td>\n",
       "    </tr>\n",
       "    <tr>\n",
       "      <th>1</th>\n",
       "      <td>Evelina</td>\n",
       "      <td>5</td>\n",
       "      <td>6</td>\n",
       "      <td>7</td>\n",
       "    </tr>\n",
       "    <tr>\n",
       "      <th>2</th>\n",
       "      <td>Peter</td>\n",
       "      <td>8</td>\n",
       "      <td>7</td>\n",
       "      <td>1</td>\n",
       "    </tr>\n",
       "    <tr>\n",
       "      <th>3</th>\n",
       "      <td>Georgii</td>\n",
       "      <td>9</td>\n",
       "      <td>8</td>\n",
       "      <td>3</td>\n",
       "    </tr>\n",
       "    <tr>\n",
       "      <th>4</th>\n",
       "      <td>Maxim</td>\n",
       "      <td>6</td>\n",
       "      <td>4</td>\n",
       "      <td>9</td>\n",
       "    </tr>\n",
       "    <tr>\n",
       "      <th>5</th>\n",
       "      <td>Asen</td>\n",
       "      <td>4</td>\n",
       "      <td>2</td>\n",
       "      <td>5</td>\n",
       "    </tr>\n",
       "  </tbody>\n",
       "</table>\n",
       "</div>"
      ],
      "text/plain": [
       "      name  mathematics  literature  physics\n",
       "0     Ivan            2           3        6\n",
       "1  Evelina            5           6        7\n",
       "2    Peter            8           7        1\n",
       "3  Georgii            9           8        3\n",
       "4    Maxim            6           4        9\n",
       "5     Asen            4           2        5"
      ]
     },
     "execution_count": 231,
     "metadata": {},
     "output_type": "execute_result"
    }
   ],
   "source": [
    "d[[\"name\", \"mathematics\", \"literature\", \"physics\"]]"
   ]
  },
  {
   "cell_type": "code",
   "execution_count": 232,
   "metadata": {},
   "outputs": [
    {
     "data": {
      "text/plain": [
       "2"
      ]
     },
     "execution_count": 232,
     "metadata": {},
     "output_type": "execute_result"
    }
   ],
   "source": [
    "len(d[d[\"age\"] < 16])"
   ]
  },
  {
   "cell_type": "code",
   "execution_count": 233,
   "metadata": {},
   "outputs": [
    {
     "data": {
      "text/html": [
       "<div>\n",
       "<style scoped>\n",
       "    .dataframe tbody tr th:only-of-type {\n",
       "        vertical-align: middle;\n",
       "    }\n",
       "\n",
       "    .dataframe tbody tr th {\n",
       "        vertical-align: top;\n",
       "    }\n",
       "\n",
       "    .dataframe thead th {\n",
       "        text-align: right;\n",
       "    }\n",
       "</style>\n",
       "<table border=\"1\" class=\"dataframe\">\n",
       "  <thead>\n",
       "    <tr style=\"text-align: right;\">\n",
       "      <th></th>\n",
       "      <th>name</th>\n",
       "      <th>city</th>\n",
       "      <th>mathematics</th>\n",
       "      <th>physics</th>\n",
       "      <th>literature</th>\n",
       "      <th>age</th>\n",
       "      <th>history</th>\n",
       "      <th>biology</th>\n",
       "      <th>art</th>\n",
       "      <th>average</th>\n",
       "      <th>average mathematics</th>\n",
       "      <th>total</th>\n",
       "    </tr>\n",
       "  </thead>\n",
       "  <tbody>\n",
       "    <tr>\n",
       "      <th>1</th>\n",
       "      <td>Evelina</td>\n",
       "      <td>Burgas</td>\n",
       "      <td>5</td>\n",
       "      <td>7</td>\n",
       "      <td>6</td>\n",
       "      <td>15</td>\n",
       "      <td>8</td>\n",
       "      <td>5</td>\n",
       "      <td>9</td>\n",
       "      <td>6.666667</td>\n",
       "      <td>5.166667</td>\n",
       "      <td>40</td>\n",
       "    </tr>\n",
       "    <tr>\n",
       "      <th>3</th>\n",
       "      <td>Georgii</td>\n",
       "      <td>Sofia</td>\n",
       "      <td>9</td>\n",
       "      <td>3</td>\n",
       "      <td>8</td>\n",
       "      <td>15</td>\n",
       "      <td>9</td>\n",
       "      <td>6</td>\n",
       "      <td>8</td>\n",
       "      <td>7.166667</td>\n",
       "      <td>5.166667</td>\n",
       "      <td>43</td>\n",
       "    </tr>\n",
       "    <tr>\n",
       "      <th>4</th>\n",
       "      <td>Maxim</td>\n",
       "      <td>Berlin</td>\n",
       "      <td>6</td>\n",
       "      <td>9</td>\n",
       "      <td>4</td>\n",
       "      <td>16</td>\n",
       "      <td>7</td>\n",
       "      <td>9</td>\n",
       "      <td>7</td>\n",
       "      <td>7.000000</td>\n",
       "      <td>5.166667</td>\n",
       "      <td>42</td>\n",
       "    </tr>\n",
       "    <tr>\n",
       "      <th>5</th>\n",
       "      <td>Asen</td>\n",
       "      <td>Burgas</td>\n",
       "      <td>4</td>\n",
       "      <td>5</td>\n",
       "      <td>2</td>\n",
       "      <td>17</td>\n",
       "      <td>8</td>\n",
       "      <td>4</td>\n",
       "      <td>8</td>\n",
       "      <td>5.166667</td>\n",
       "      <td>5.166667</td>\n",
       "      <td>31</td>\n",
       "    </tr>\n",
       "  </tbody>\n",
       "</table>\n",
       "</div>"
      ],
      "text/plain": [
       "      name    city  mathematics  physics  literature  age  history  biology  \\\n",
       "1  Evelina  Burgas            5        7           6   15        8        5   \n",
       "3  Georgii   Sofia            9        3           8   15        9        6   \n",
       "4    Maxim  Berlin            6        9           4   16        7        9   \n",
       "5     Asen  Burgas            4        5           2   17        8        4   \n",
       "\n",
       "   art   average  average mathematics  total  \n",
       "1    9  6.666667             5.166667     40  \n",
       "3    8  7.166667             5.166667     43  \n",
       "4    7  7.000000             5.166667     42  \n",
       "5    8  5.166667             5.166667     31  "
      ]
     },
     "execution_count": 233,
     "metadata": {},
     "output_type": "execute_result"
    }
   ],
   "source": [
    "d[d[\"history\"] > 6]"
   ]
  },
  {
   "cell_type": "code",
   "execution_count": 234,
   "metadata": {},
   "outputs": [
    {
     "data": {
      "text/html": [
       "<div>\n",
       "<style scoped>\n",
       "    .dataframe tbody tr th:only-of-type {\n",
       "        vertical-align: middle;\n",
       "    }\n",
       "\n",
       "    .dataframe tbody tr th {\n",
       "        vertical-align: top;\n",
       "    }\n",
       "\n",
       "    .dataframe thead th {\n",
       "        text-align: right;\n",
       "    }\n",
       "</style>\n",
       "<table border=\"1\" class=\"dataframe\">\n",
       "  <thead>\n",
       "    <tr style=\"text-align: right;\">\n",
       "      <th></th>\n",
       "      <th>name</th>\n",
       "      <th>city</th>\n",
       "      <th>mathematics</th>\n",
       "      <th>physics</th>\n",
       "      <th>literature</th>\n",
       "      <th>age</th>\n",
       "      <th>history</th>\n",
       "      <th>biology</th>\n",
       "      <th>art</th>\n",
       "      <th>average</th>\n",
       "      <th>average mathematics</th>\n",
       "      <th>total</th>\n",
       "    </tr>\n",
       "  </thead>\n",
       "  <tbody>\n",
       "    <tr>\n",
       "      <th>0</th>\n",
       "      <td>Ivan</td>\n",
       "      <td>Moscow</td>\n",
       "      <td>2</td>\n",
       "      <td>6</td>\n",
       "      <td>3</td>\n",
       "      <td>16</td>\n",
       "      <td>4</td>\n",
       "      <td>7</td>\n",
       "      <td>6</td>\n",
       "      <td>4.666667</td>\n",
       "      <td>5.166667</td>\n",
       "      <td>28</td>\n",
       "    </tr>\n",
       "    <tr>\n",
       "      <th>1</th>\n",
       "      <td>Evelina</td>\n",
       "      <td>Burgas</td>\n",
       "      <td>5</td>\n",
       "      <td>7</td>\n",
       "      <td>6</td>\n",
       "      <td>15</td>\n",
       "      <td>8</td>\n",
       "      <td>5</td>\n",
       "      <td>9</td>\n",
       "      <td>6.666667</td>\n",
       "      <td>5.166667</td>\n",
       "      <td>40</td>\n",
       "    </tr>\n",
       "    <tr>\n",
       "      <th>5</th>\n",
       "      <td>Asen</td>\n",
       "      <td>Burgas</td>\n",
       "      <td>4</td>\n",
       "      <td>5</td>\n",
       "      <td>2</td>\n",
       "      <td>17</td>\n",
       "      <td>8</td>\n",
       "      <td>4</td>\n",
       "      <td>8</td>\n",
       "      <td>5.166667</td>\n",
       "      <td>5.166667</td>\n",
       "      <td>31</td>\n",
       "    </tr>\n",
       "  </tbody>\n",
       "</table>\n",
       "</div>"
      ],
      "text/plain": [
       "      name    city  mathematics  physics  literature  age  history  biology  \\\n",
       "0     Ivan  Moscow            2        6           3   16        4        7   \n",
       "1  Evelina  Burgas            5        7           6   15        8        5   \n",
       "5     Asen  Burgas            4        5           2   17        8        4   \n",
       "\n",
       "   art   average  average mathematics  total  \n",
       "0    6  4.666667             5.166667     28  \n",
       "1    9  6.666667             5.166667     40  \n",
       "5    8  5.166667             5.166667     31  "
      ]
     },
     "execution_count": 234,
     "metadata": {},
     "output_type": "execute_result"
    }
   ],
   "source": [
    "d[(d[\"city\"] == \"Moscow\") | (d[\"city\"] == \"Burgas\")]"
   ]
  },
  {
   "cell_type": "code",
   "execution_count": 235,
   "metadata": {},
   "outputs": [
    {
     "data": {
      "text/html": [
       "<div>\n",
       "<style scoped>\n",
       "    .dataframe tbody tr th:only-of-type {\n",
       "        vertical-align: middle;\n",
       "    }\n",
       "\n",
       "    .dataframe tbody tr th {\n",
       "        vertical-align: top;\n",
       "    }\n",
       "\n",
       "    .dataframe thead th {\n",
       "        text-align: right;\n",
       "    }\n",
       "</style>\n",
       "<table border=\"1\" class=\"dataframe\">\n",
       "  <thead>\n",
       "    <tr style=\"text-align: right;\">\n",
       "      <th></th>\n",
       "      <th>name</th>\n",
       "      <th>city</th>\n",
       "    </tr>\n",
       "  </thead>\n",
       "  <tbody>\n",
       "    <tr>\n",
       "      <th>5</th>\n",
       "      <td>Asen</td>\n",
       "      <td>Burgas</td>\n",
       "    </tr>\n",
       "  </tbody>\n",
       "</table>\n",
       "</div>"
      ],
      "text/plain": [
       "   name    city\n",
       "5  Asen  Burgas"
      ]
     },
     "execution_count": 235,
     "metadata": {},
     "output_type": "execute_result"
    }
   ],
   "source": [
    "d.loc[d[\"literature\"] == min(d[\"literature\"]), [\"name\", \"city\"]]"
   ]
  },
  {
   "cell_type": "code",
   "execution_count": 236,
   "metadata": {},
   "outputs": [
    {
     "data": {
      "text/html": [
       "<div>\n",
       "<style scoped>\n",
       "    .dataframe tbody tr th:only-of-type {\n",
       "        vertical-align: middle;\n",
       "    }\n",
       "\n",
       "    .dataframe tbody tr th {\n",
       "        vertical-align: top;\n",
       "    }\n",
       "\n",
       "    .dataframe thead th {\n",
       "        text-align: right;\n",
       "    }\n",
       "</style>\n",
       "<table border=\"1\" class=\"dataframe\">\n",
       "  <thead>\n",
       "    <tr style=\"text-align: right;\">\n",
       "      <th></th>\n",
       "      <th>name</th>\n",
       "      <th>average</th>\n",
       "    </tr>\n",
       "  </thead>\n",
       "  <tbody>\n",
       "    <tr>\n",
       "      <th>3</th>\n",
       "      <td>Georgii</td>\n",
       "      <td>7.166667</td>\n",
       "    </tr>\n",
       "    <tr>\n",
       "      <th>4</th>\n",
       "      <td>Maxim</td>\n",
       "      <td>7.000000</td>\n",
       "    </tr>\n",
       "    <tr>\n",
       "      <th>1</th>\n",
       "      <td>Evelina</td>\n",
       "      <td>6.666667</td>\n",
       "    </tr>\n",
       "    <tr>\n",
       "      <th>2</th>\n",
       "      <td>Peter</td>\n",
       "      <td>6.000000</td>\n",
       "    </tr>\n",
       "    <tr>\n",
       "      <th>5</th>\n",
       "      <td>Asen</td>\n",
       "      <td>5.166667</td>\n",
       "    </tr>\n",
       "    <tr>\n",
       "      <th>0</th>\n",
       "      <td>Ivan</td>\n",
       "      <td>4.666667</td>\n",
       "    </tr>\n",
       "  </tbody>\n",
       "</table>\n",
       "</div>"
      ],
      "text/plain": [
       "      name   average\n",
       "3  Georgii  7.166667\n",
       "4    Maxim  7.000000\n",
       "1  Evelina  6.666667\n",
       "2    Peter  6.000000\n",
       "5     Asen  5.166667\n",
       "0     Ivan  4.666667"
      ]
     },
     "execution_count": 236,
     "metadata": {},
     "output_type": "execute_result"
    }
   ],
   "source": [
    "d[[\"name\", \"average\"]].sort_values(by=[\"average\"], ascending=False)"
   ]
  },
  {
   "cell_type": "code",
   "execution_count": 237,
   "metadata": {},
   "outputs": [
    {
     "data": {
      "text/html": [
       "<div>\n",
       "<style scoped>\n",
       "    .dataframe tbody tr th:only-of-type {\n",
       "        vertical-align: middle;\n",
       "    }\n",
       "\n",
       "    .dataframe tbody tr th {\n",
       "        vertical-align: top;\n",
       "    }\n",
       "\n",
       "    .dataframe thead th {\n",
       "        text-align: right;\n",
       "    }\n",
       "</style>\n",
       "<table border=\"1\" class=\"dataframe\">\n",
       "  <thead>\n",
       "    <tr style=\"text-align: right;\">\n",
       "      <th></th>\n",
       "      <th>name</th>\n",
       "      <th>mathematics</th>\n",
       "      <th>physics</th>\n",
       "      <th>literature</th>\n",
       "    </tr>\n",
       "  </thead>\n",
       "  <tbody>\n",
       "    <tr>\n",
       "      <th>1</th>\n",
       "      <td>Evelina</td>\n",
       "      <td>5</td>\n",
       "      <td>7</td>\n",
       "      <td>6</td>\n",
       "    </tr>\n",
       "    <tr>\n",
       "      <th>4</th>\n",
       "      <td>Maxim</td>\n",
       "      <td>6</td>\n",
       "      <td>9</td>\n",
       "      <td>4</td>\n",
       "    </tr>\n",
       "  </tbody>\n",
       "</table>\n",
       "</div>"
      ],
      "text/plain": [
       "      name  mathematics  physics  literature\n",
       "1  Evelina            5        7           6\n",
       "4    Maxim            6        9           4"
      ]
     },
     "execution_count": 237,
     "metadata": {},
     "output_type": "execute_result"
    }
   ],
   "source": [
    "n = d.loc[d[\"physics\"] > 6, [\"name\", \"mathematics\", \"physics\", \"literature\"]]\n",
    "n"
   ]
  },
  {
   "cell_type": "code",
   "execution_count": 238,
   "metadata": {},
   "outputs": [
    {
     "data": {
      "text/html": [
       "<div>\n",
       "<style scoped>\n",
       "    .dataframe tbody tr th:only-of-type {\n",
       "        vertical-align: middle;\n",
       "    }\n",
       "\n",
       "    .dataframe tbody tr th {\n",
       "        vertical-align: top;\n",
       "    }\n",
       "\n",
       "    .dataframe thead th {\n",
       "        text-align: right;\n",
       "    }\n",
       "</style>\n",
       "<table border=\"1\" class=\"dataframe\">\n",
       "  <thead>\n",
       "    <tr style=\"text-align: right;\">\n",
       "      <th></th>\n",
       "      <th>name</th>\n",
       "      <th>city</th>\n",
       "      <th>mathematics</th>\n",
       "      <th>physics</th>\n",
       "      <th>literature</th>\n",
       "      <th>age</th>\n",
       "      <th>history</th>\n",
       "      <th>biology</th>\n",
       "      <th>art</th>\n",
       "      <th>average</th>\n",
       "      <th>average mathematics</th>\n",
       "      <th>total</th>\n",
       "    </tr>\n",
       "  </thead>\n",
       "  <tbody>\n",
       "    <tr>\n",
       "      <th>1</th>\n",
       "      <td>Evelina</td>\n",
       "      <td>Burgas</td>\n",
       "      <td>5</td>\n",
       "      <td>7</td>\n",
       "      <td>6</td>\n",
       "      <td>15</td>\n",
       "      <td>8</td>\n",
       "      <td>5</td>\n",
       "      <td>9</td>\n",
       "      <td>6.666667</td>\n",
       "      <td>5.166667</td>\n",
       "      <td>40</td>\n",
       "    </tr>\n",
       "    <tr>\n",
       "      <th>4</th>\n",
       "      <td>Maxim</td>\n",
       "      <td>Berlin</td>\n",
       "      <td>6</td>\n",
       "      <td>9</td>\n",
       "      <td>4</td>\n",
       "      <td>16</td>\n",
       "      <td>7</td>\n",
       "      <td>9</td>\n",
       "      <td>7</td>\n",
       "      <td>7.000000</td>\n",
       "      <td>5.166667</td>\n",
       "      <td>42</td>\n",
       "    </tr>\n",
       "  </tbody>\n",
       "</table>\n",
       "</div>"
      ],
      "text/plain": [
       "      name    city  mathematics  physics  literature  age  history  biology  \\\n",
       "1  Evelina  Burgas            5        7           6   15        8        5   \n",
       "4    Maxim  Berlin            6        9           4   16        7        9   \n",
       "\n",
       "   art   average  average mathematics  total  \n",
       "1    9  6.666667             5.166667     40  \n",
       "4    7  7.000000             5.166667     42  "
      ]
     },
     "execution_count": 238,
     "metadata": {},
     "output_type": "execute_result"
    }
   ],
   "source": [
    "d[(d[\"mathematics\"] > 3) & (d[\"physics\"] > 3) & (d[\"literature\"] > 3) & (d[\"history\"] > 3) & (d[\"biology\"] > 3) & (d[\"art\"] > 3)]"
   ]
  },
  {
   "cell_type": "code",
   "execution_count": 239,
   "metadata": {},
   "outputs": [
    {
     "data": {
      "text/html": [
       "<div>\n",
       "<style scoped>\n",
       "    .dataframe tbody tr th:only-of-type {\n",
       "        vertical-align: middle;\n",
       "    }\n",
       "\n",
       "    .dataframe tbody tr th {\n",
       "        vertical-align: top;\n",
       "    }\n",
       "\n",
       "    .dataframe thead th {\n",
       "        text-align: right;\n",
       "    }\n",
       "</style>\n",
       "<table border=\"1\" class=\"dataframe\">\n",
       "  <thead>\n",
       "    <tr style=\"text-align: right;\">\n",
       "      <th></th>\n",
       "      <th>name</th>\n",
       "      <th>city</th>\n",
       "      <th>mathematics</th>\n",
       "      <th>physics</th>\n",
       "      <th>literature</th>\n",
       "      <th>age</th>\n",
       "      <th>history</th>\n",
       "      <th>biology</th>\n",
       "      <th>art</th>\n",
       "      <th>average</th>\n",
       "      <th>average mathematics</th>\n",
       "      <th>total</th>\n",
       "      <th>pass_fail</th>\n",
       "    </tr>\n",
       "  </thead>\n",
       "  <tbody>\n",
       "    <tr>\n",
       "      <th>0</th>\n",
       "      <td>Ivan</td>\n",
       "      <td>Moscow</td>\n",
       "      <td>2</td>\n",
       "      <td>6</td>\n",
       "      <td>3</td>\n",
       "      <td>16</td>\n",
       "      <td>4</td>\n",
       "      <td>7</td>\n",
       "      <td>6</td>\n",
       "      <td>4.666667</td>\n",
       "      <td>5.166667</td>\n",
       "      <td>28</td>\n",
       "      <td>Fail</td>\n",
       "    </tr>\n",
       "    <tr>\n",
       "      <th>1</th>\n",
       "      <td>Evelina</td>\n",
       "      <td>Burgas</td>\n",
       "      <td>5</td>\n",
       "      <td>7</td>\n",
       "      <td>6</td>\n",
       "      <td>15</td>\n",
       "      <td>8</td>\n",
       "      <td>5</td>\n",
       "      <td>9</td>\n",
       "      <td>6.666667</td>\n",
       "      <td>5.166667</td>\n",
       "      <td>40</td>\n",
       "      <td>Pass</td>\n",
       "    </tr>\n",
       "    <tr>\n",
       "      <th>2</th>\n",
       "      <td>Peter</td>\n",
       "      <td>Plovdiv</td>\n",
       "      <td>8</td>\n",
       "      <td>1</td>\n",
       "      <td>7</td>\n",
       "      <td>16</td>\n",
       "      <td>5</td>\n",
       "      <td>8</td>\n",
       "      <td>7</td>\n",
       "      <td>6.000000</td>\n",
       "      <td>5.166667</td>\n",
       "      <td>36</td>\n",
       "      <td>Pass</td>\n",
       "    </tr>\n",
       "    <tr>\n",
       "      <th>3</th>\n",
       "      <td>Georgii</td>\n",
       "      <td>Sofia</td>\n",
       "      <td>9</td>\n",
       "      <td>3</td>\n",
       "      <td>8</td>\n",
       "      <td>15</td>\n",
       "      <td>9</td>\n",
       "      <td>6</td>\n",
       "      <td>8</td>\n",
       "      <td>7.166667</td>\n",
       "      <td>5.166667</td>\n",
       "      <td>43</td>\n",
       "      <td>Pass</td>\n",
       "    </tr>\n",
       "    <tr>\n",
       "      <th>4</th>\n",
       "      <td>Maxim</td>\n",
       "      <td>Berlin</td>\n",
       "      <td>6</td>\n",
       "      <td>9</td>\n",
       "      <td>4</td>\n",
       "      <td>16</td>\n",
       "      <td>7</td>\n",
       "      <td>9</td>\n",
       "      <td>7</td>\n",
       "      <td>7.000000</td>\n",
       "      <td>5.166667</td>\n",
       "      <td>42</td>\n",
       "      <td>Pass</td>\n",
       "    </tr>\n",
       "    <tr>\n",
       "      <th>5</th>\n",
       "      <td>Asen</td>\n",
       "      <td>Burgas</td>\n",
       "      <td>4</td>\n",
       "      <td>5</td>\n",
       "      <td>2</td>\n",
       "      <td>17</td>\n",
       "      <td>8</td>\n",
       "      <td>4</td>\n",
       "      <td>8</td>\n",
       "      <td>5.166667</td>\n",
       "      <td>5.166667</td>\n",
       "      <td>31</td>\n",
       "      <td>Fail</td>\n",
       "    </tr>\n",
       "  </tbody>\n",
       "</table>\n",
       "</div>"
      ],
      "text/plain": [
       "      name     city  mathematics  physics  literature  age  history  biology  \\\n",
       "0     Ivan   Moscow            2        6           3   16        4        7   \n",
       "1  Evelina   Burgas            5        7           6   15        8        5   \n",
       "2    Peter  Plovdiv            8        1           7   16        5        8   \n",
       "3  Georgii    Sofia            9        3           8   15        9        6   \n",
       "4    Maxim   Berlin            6        9           4   16        7        9   \n",
       "5     Asen   Burgas            4        5           2   17        8        4   \n",
       "\n",
       "   art   average  average mathematics  total pass_fail  \n",
       "0    6  4.666667             5.166667     28      Fail  \n",
       "1    9  6.666667             5.166667     40      Pass  \n",
       "2    7  6.000000             5.166667     36      Pass  \n",
       "3    8  7.166667             5.166667     43      Pass  \n",
       "4    7  7.000000             5.166667     42      Pass  \n",
       "5    8  5.166667             5.166667     31      Fail  "
      ]
     },
     "execution_count": 239,
     "metadata": {},
     "output_type": "execute_result"
    }
   ],
   "source": [
    "def check_pass_fail(row):\n",
    "    if (row[\"mathematics\"] > 4) & (row[\"art\"] > 4):\n",
    "        return \"Pass\"\n",
    "    else:\n",
    "        return \"Fail\"\n",
    "\n",
    "d[\"pass_fail\"] = d.apply(check_pass_fail, axis=1)\n",
    "d"
   ]
  },
  {
   "cell_type": "code",
   "execution_count": 240,
   "metadata": {},
   "outputs": [
    {
     "data": {
      "text/html": [
       "<div>\n",
       "<style scoped>\n",
       "    .dataframe tbody tr th:only-of-type {\n",
       "        vertical-align: middle;\n",
       "    }\n",
       "\n",
       "    .dataframe tbody tr th {\n",
       "        vertical-align: top;\n",
       "    }\n",
       "\n",
       "    .dataframe thead th {\n",
       "        text-align: right;\n",
       "    }\n",
       "</style>\n",
       "<table border=\"1\" class=\"dataframe\">\n",
       "  <thead>\n",
       "    <tr style=\"text-align: right;\">\n",
       "      <th></th>\n",
       "      <th>mathematics</th>\n",
       "      <th>physics</th>\n",
       "      <th>literature</th>\n",
       "      <th>history</th>\n",
       "      <th>biology</th>\n",
       "      <th>art</th>\n",
       "    </tr>\n",
       "    <tr>\n",
       "      <th>city</th>\n",
       "      <th></th>\n",
       "      <th></th>\n",
       "      <th></th>\n",
       "      <th></th>\n",
       "      <th></th>\n",
       "      <th></th>\n",
       "    </tr>\n",
       "  </thead>\n",
       "  <tbody>\n",
       "    <tr>\n",
       "      <th>Berlin</th>\n",
       "      <td>6.0</td>\n",
       "      <td>9.0</td>\n",
       "      <td>4.0</td>\n",
       "      <td>7.0</td>\n",
       "      <td>9.0</td>\n",
       "      <td>7.0</td>\n",
       "    </tr>\n",
       "    <tr>\n",
       "      <th>Burgas</th>\n",
       "      <td>4.5</td>\n",
       "      <td>6.0</td>\n",
       "      <td>4.0</td>\n",
       "      <td>8.0</td>\n",
       "      <td>4.5</td>\n",
       "      <td>8.5</td>\n",
       "    </tr>\n",
       "    <tr>\n",
       "      <th>Moscow</th>\n",
       "      <td>2.0</td>\n",
       "      <td>6.0</td>\n",
       "      <td>3.0</td>\n",
       "      <td>4.0</td>\n",
       "      <td>7.0</td>\n",
       "      <td>6.0</td>\n",
       "    </tr>\n",
       "    <tr>\n",
       "      <th>Plovdiv</th>\n",
       "      <td>8.0</td>\n",
       "      <td>1.0</td>\n",
       "      <td>7.0</td>\n",
       "      <td>5.0</td>\n",
       "      <td>8.0</td>\n",
       "      <td>7.0</td>\n",
       "    </tr>\n",
       "    <tr>\n",
       "      <th>Sofia</th>\n",
       "      <td>9.0</td>\n",
       "      <td>3.0</td>\n",
       "      <td>8.0</td>\n",
       "      <td>9.0</td>\n",
       "      <td>6.0</td>\n",
       "      <td>8.0</td>\n",
       "    </tr>\n",
       "  </tbody>\n",
       "</table>\n",
       "</div>"
      ],
      "text/plain": [
       "         mathematics  physics  literature  history  biology  art\n",
       "city                                                            \n",
       "Berlin           6.0      9.0         4.0      7.0      9.0  7.0\n",
       "Burgas           4.5      6.0         4.0      8.0      4.5  8.5\n",
       "Moscow           2.0      6.0         3.0      4.0      7.0  6.0\n",
       "Plovdiv          8.0      1.0         7.0      5.0      8.0  7.0\n",
       "Sofia            9.0      3.0         8.0      9.0      6.0  8.0"
      ]
     },
     "execution_count": 240,
     "metadata": {},
     "output_type": "execute_result"
    }
   ],
   "source": [
    "d.groupby(\"city\")[[\"mathematics\", \"physics\", \"literature\", \"history\", \"biology\", \"art\"]].mean()"
   ]
  },
  {
   "cell_type": "code",
   "execution_count": 241,
   "metadata": {},
   "outputs": [
    {
     "data": {
      "text/plain": [
       "3    Georgii\n",
       "4      Maxim\n",
       "3    Georgii\n",
       "3    Georgii\n",
       "4      Maxim\n",
       "1    Evelina\n",
       "Name: name, dtype: object"
      ]
     },
     "execution_count": 241,
     "metadata": {},
     "output_type": "execute_result"
    }
   ],
   "source": [
    "r = d[[\"mathematics\", \"physics\", \"literature\", \"history\", \"biology\", \"art\"]].idxmax()\n",
    "d.loc[r, \"name\"]\n"
   ]
  },
  {
   "cell_type": "code",
   "execution_count": 242,
   "metadata": {},
   "outputs": [
    {
     "data": {
      "text/plain": [
       "0     Ivan\n",
       "2    Peter\n",
       "5     Asen\n",
       "0     Ivan\n",
       "5     Asen\n",
       "0     Ivan\n",
       "Name: name, dtype: object"
      ]
     },
     "execution_count": 242,
     "metadata": {},
     "output_type": "execute_result"
    }
   ],
   "source": [
    "r = d[[\"mathematics\", \"physics\", \"literature\", \"history\", \"biology\", \"art\"]].idxmin()\n",
    "d.loc[r, \"name\"]"
   ]
  },
  {
   "cell_type": "code",
   "execution_count": 243,
   "metadata": {},
   "outputs": [
    {
     "data": {
      "text/plain": [
       "'Georgii'"
      ]
     },
     "execution_count": 243,
     "metadata": {},
     "output_type": "execute_result"
    }
   ],
   "source": [
    "d.groupby(\"name\")[\"average\"].mean().idxmax()"
   ]
  },
  {
   "cell_type": "code",
   "execution_count": 244,
   "metadata": {},
   "outputs": [
    {
     "data": {
      "text/plain": [
       "age\n",
       "15    6.916667\n",
       "16    5.888889\n",
       "17    5.166667\n",
       "Name: average, dtype: float64"
      ]
     },
     "execution_count": 244,
     "metadata": {},
     "output_type": "execute_result"
    }
   ],
   "source": [
    "d.groupby(\"age\")[\"average\"].mean()"
   ]
  },
  {
   "cell_type": "code",
   "execution_count": 245,
   "metadata": {},
   "outputs": [
    {
     "data": {
      "text/html": [
       "<div>\n",
       "<style scoped>\n",
       "    .dataframe tbody tr th:only-of-type {\n",
       "        vertical-align: middle;\n",
       "    }\n",
       "\n",
       "    .dataframe tbody tr th {\n",
       "        vertical-align: top;\n",
       "    }\n",
       "\n",
       "    .dataframe thead th {\n",
       "        text-align: right;\n",
       "    }\n",
       "</style>\n",
       "<table border=\"1\" class=\"dataframe\">\n",
       "  <thead>\n",
       "    <tr style=\"text-align: right;\">\n",
       "      <th></th>\n",
       "      <th>mathematics</th>\n",
       "      <th>physics</th>\n",
       "      <th>literature</th>\n",
       "      <th>history</th>\n",
       "      <th>biology</th>\n",
       "      <th>art</th>\n",
       "    </tr>\n",
       "  </thead>\n",
       "  <tbody>\n",
       "    <tr>\n",
       "      <th>mathematics</th>\n",
       "      <td>1.000000</td>\n",
       "      <td>-0.533070</td>\n",
       "      <td>0.851050</td>\n",
       "      <td>0.425722</td>\n",
       "      <td>0.248424</td>\n",
       "      <td>0.295420</td>\n",
       "    </tr>\n",
       "    <tr>\n",
       "      <th>physics</th>\n",
       "      <td>-0.533070</td>\n",
       "      <td>1.000000</td>\n",
       "      <td>-0.532336</td>\n",
       "      <td>0.114191</td>\n",
       "      <td>0.093522</td>\n",
       "      <td>0.033364</td>\n",
       "    </tr>\n",
       "    <tr>\n",
       "      <th>literature</th>\n",
       "      <td>0.851050</td>\n",
       "      <td>-0.532336</td>\n",
       "      <td>1.000000</td>\n",
       "      <td>0.261281</td>\n",
       "      <td>0.180702</td>\n",
       "      <td>0.322329</td>\n",
       "    </tr>\n",
       "    <tr>\n",
       "      <th>history</th>\n",
       "      <td>0.425722</td>\n",
       "      <td>0.114191</td>\n",
       "      <td>0.261281</td>\n",
       "      <td>1.000000</td>\n",
       "      <td>-0.523288</td>\n",
       "      <td>0.835168</td>\n",
       "    </tr>\n",
       "    <tr>\n",
       "      <th>biology</th>\n",
       "      <td>0.248424</td>\n",
       "      <td>0.093522</td>\n",
       "      <td>0.180702</td>\n",
       "      <td>-0.523288</td>\n",
       "      <td>1.000000</td>\n",
       "      <td>-0.662541</td>\n",
       "    </tr>\n",
       "    <tr>\n",
       "      <th>art</th>\n",
       "      <td>0.295420</td>\n",
       "      <td>0.033364</td>\n",
       "      <td>0.322329</td>\n",
       "      <td>0.835168</td>\n",
       "      <td>-0.662541</td>\n",
       "      <td>1.000000</td>\n",
       "    </tr>\n",
       "  </tbody>\n",
       "</table>\n",
       "</div>"
      ],
      "text/plain": [
       "             mathematics   physics  literature   history   biology       art\n",
       "mathematics     1.000000 -0.533070    0.851050  0.425722  0.248424  0.295420\n",
       "physics        -0.533070  1.000000   -0.532336  0.114191  0.093522  0.033364\n",
       "literature      0.851050 -0.532336    1.000000  0.261281  0.180702  0.322329\n",
       "history         0.425722  0.114191    0.261281  1.000000 -0.523288  0.835168\n",
       "biology         0.248424  0.093522    0.180702 -0.523288  1.000000 -0.662541\n",
       "art             0.295420  0.033364    0.322329  0.835168 -0.662541  1.000000"
      ]
     },
     "execution_count": 245,
     "metadata": {},
     "output_type": "execute_result"
    }
   ],
   "source": [
    "d[[\"mathematics\", \"physics\", \"literature\", \"history\", \"biology\", \"art\"]].corr()"
   ]
  },
  {
   "cell_type": "code",
   "execution_count": 246,
   "metadata": {},
   "outputs": [
    {
     "data": {
      "text/plain": [
       "0.16666666666666666"
      ]
     },
     "execution_count": 246,
     "metadata": {},
     "output_type": "execute_result"
    }
   ],
   "source": [
    "len(d[d[\"average\"] > 7]) / len(d)"
   ]
  },
  {
   "cell_type": "code",
   "execution_count": 247,
   "metadata": {},
   "outputs": [
    {
     "data": {
      "text/plain": [
       "city\n",
       "Sofia      7.166667\n",
       "Berlin     7.000000\n",
       "Plovdiv    6.000000\n",
       "Name: average, dtype: float64"
      ]
     },
     "execution_count": 247,
     "metadata": {},
     "output_type": "execute_result"
    }
   ],
   "source": [
    "r = d.groupby(\"city\")[\"average\"].mean()\n",
    "r.nlargest(3)"
   ]
  },
  {
   "cell_type": "code",
   "execution_count": 248,
   "metadata": {},
   "outputs": [
    {
     "data": {
      "image/png": "[encoded data removed]",
      "text/plain": [
       "<Figure size 640x480 with 1 Axes>"
      ]
     },
     "metadata": {},
     "output_type": "display_data"
    },
    {
     "data": {
      "image/png": "[encoded data removed]",
      "text/plain": [
       "<Figure size 640x480 with 1 Axes>"
      ]
     },
     "metadata": {},
     "output_type": "display_data"
    },
    {
     "data": {
      "image/png": "[encoded data removed]",
      "text/plain": [
       "<Figure size 640x480 with 1 Axes>"
      ]
     },
     "metadata": {},
     "output_type": "display_data"
    },
    {
     "data": {
      "image/png": "[encoded data removed]",
      "text/plain": [
       "<Figure size 640x480 with 1 Axes>"
      ]
     },
     "metadata": {},
     "output_type": "display_data"
    },
    {
     "data": {
      "image/png": "[encoded data removed]",
      "text/plain": [
       "<Figure size 640x480 with 1 Axes>"
      ]
     },
     "metadata": {},
     "output_type": "display_data"
    },
    {
     "data": {
      "image/png": "[encoded data removed]",
      "text/plain": [
       "<Figure size 640x480 with 1 Axes>"
      ]
     },
     "metadata": {},
     "output_type": "display_data"
    }
   ],
   "source": [
    "sub = [\"mathematics\", \"physics\", \"literature\", \"history\", \"biology\", \"art\"]\n",
    "for j in sub:\n",
    "    sns.histplot(d[j], bins=5, kde=True, edgecolor='black')\n",
    "    plt.show()"
   ]
  },
  {
   "cell_type": "code",
   "execution_count": 249,
   "metadata": {},
   "outputs": [
    {
     "data": {
      "text/plain": [
       "'Sofia'"
      ]
     },
     "execution_count": 249,
     "metadata": {},
     "output_type": "execute_result"
    }
   ],
   "source": [
    "d.groupby(\"city\")[\"mathematics\"].mean().idxmax()"
   ]
  },
  {
   "cell_type": "code",
   "execution_count": 250,
   "metadata": {},
   "outputs": [
    {
     "name": "stdout",
     "output_type": "stream",
     "text": [
      "Mathematics : 7\n",
      "Physics : 8\n",
      "Literature : 6\n",
      "History : 5\n",
      "Biology : 5\n",
      "Art : 3\n"
     ]
    }
   ],
   "source": [
    "sub = [\"mathematics\", \"physics\", \"literature\", \"history\", \"biology\", \"art\"]\n",
    "arr = {}\n",
    "\n",
    "for j in sub:\n",
    "    arr[j] = d[j].max() - d[j].min()\n",
    "    \n",
    "for sub, diff in arr.items():\n",
    "    print(f\"{sub.capitalize()} : {diff}\")\n"
   ]
  },
  {
   "cell_type": "code",
   "execution_count": 251,
   "metadata": {},
   "outputs": [
    {
     "data": {
      "text/plain": [
       "mathematics    4.5\n",
       "physics        6.0\n",
       "literature     4.0\n",
       "history        8.0\n",
       "biology        4.5\n",
       "art            8.5\n",
       "dtype: float64"
      ]
     },
     "execution_count": 251,
     "metadata": {},
     "output_type": "execute_result"
    }
   ],
   "source": [
    "r = d[d[\"city\"] == \"Burgas\"]\n",
    "r[[\"mathematics\", \"physics\", \"literature\", \"history\", \"biology\", \"art\"]].mean()"
   ]
  },
  {
   "cell_type": "code",
   "execution_count": 252,
   "metadata": {},
   "outputs": [
    {
     "data": {
      "text/plain": [
       "'Georgii'"
      ]
     },
     "execution_count": 252,
     "metadata": {},
     "output_type": "execute_result"
    }
   ],
   "source": [
    "s = d[\"average\"].idxmax()\n",
    "d.loc[s, \"name\"]\n"
   ]
  },
  {
   "cell_type": "code",
   "execution_count": 253,
   "metadata": {},
   "outputs": [
    {
     "data": {
      "text/plain": [
       "1"
      ]
     },
     "execution_count": 253,
     "metadata": {},
     "output_type": "execute_result"
    }
   ],
   "source": [
    "len(d[d[\"average\"] > 7])"
   ]
  },
  {
   "cell_type": "code",
   "execution_count": 254,
   "metadata": {},
   "outputs": [
    {
     "data": {
      "text/html": [
       "<div>\n",
       "<style scoped>\n",
       "    .dataframe tbody tr th:only-of-type {\n",
       "        vertical-align: middle;\n",
       "    }\n",
       "\n",
       "    .dataframe tbody tr th {\n",
       "        vertical-align: top;\n",
       "    }\n",
       "\n",
       "    .dataframe thead th {\n",
       "        text-align: right;\n",
       "    }\n",
       "</style>\n",
       "<table border=\"1\" class=\"dataframe\">\n",
       "  <thead>\n",
       "    <tr style=\"text-align: right;\">\n",
       "      <th></th>\n",
       "      <th>name</th>\n",
       "      <th>city</th>\n",
       "      <th>mathematics</th>\n",
       "      <th>physics</th>\n",
       "      <th>literature</th>\n",
       "      <th>age</th>\n",
       "      <th>history</th>\n",
       "      <th>biology</th>\n",
       "      <th>art</th>\n",
       "      <th>average</th>\n",
       "      <th>average mathematics</th>\n",
       "      <th>total</th>\n",
       "      <th>pass_fail</th>\n",
       "    </tr>\n",
       "  </thead>\n",
       "  <tbody>\n",
       "    <tr>\n",
       "      <th>3</th>\n",
       "      <td>Georgii</td>\n",
       "      <td>Sofia</td>\n",
       "      <td>9</td>\n",
       "      <td>3</td>\n",
       "      <td>8</td>\n",
       "      <td>15</td>\n",
       "      <td>9</td>\n",
       "      <td>6</td>\n",
       "      <td>8</td>\n",
       "      <td>7.166667</td>\n",
       "      <td>5.166667</td>\n",
       "      <td>43</td>\n",
       "      <td>Pass</td>\n",
       "    </tr>\n",
       "  </tbody>\n",
       "</table>\n",
       "</div>"
      ],
      "text/plain": [
       "      name   city  mathematics  physics  literature  age  history  biology  \\\n",
       "3  Georgii  Sofia            9        3           8   15        9        6   \n",
       "\n",
       "   art   average  average mathematics  total pass_fail  \n",
       "3    8  7.166667             5.166667     43      Pass  "
      ]
     },
     "execution_count": 254,
     "metadata": {},
     "output_type": "execute_result"
    }
   ],
   "source": [
    "d[d[\"total\"] == d[\"total\"].max()]"
   ]
  },
  {
   "cell_type": "code",
   "execution_count": 255,
   "metadata": {},
   "outputs": [
    {
     "data": {
      "text/plain": [
       "mathematics    4.5\n",
       "physics        6.0\n",
       "literature     4.0\n",
       "history        8.0\n",
       "biology        4.5\n",
       "art            8.5\n",
       "dtype: float64"
      ]
     },
     "execution_count": 255,
     "metadata": {},
     "output_type": "execute_result"
    }
   ],
   "source": [
    "r = d[d[\"city\"] == \"Burgas\"]\n",
    "r[[\"mathematics\", \"physics\", \"literature\", \"history\", \"biology\", \"art\"]].mean()"
   ]
  },
  {
   "cell_type": "code",
   "execution_count": 268,
   "metadata": {},
   "outputs": [
    {
     "data": {
      "text/html": [
       "<div>\n",
       "<style scoped>\n",
       "    .dataframe tbody tr th:only-of-type {\n",
       "        vertical-align: middle;\n",
       "    }\n",
       "\n",
       "    .dataframe tbody tr th {\n",
       "        vertical-align: top;\n",
       "    }\n",
       "\n",
       "    .dataframe thead th {\n",
       "        text-align: right;\n",
       "    }\n",
       "</style>\n",
       "<table border=\"1\" class=\"dataframe\">\n",
       "  <thead>\n",
       "    <tr style=\"text-align: right;\">\n",
       "      <th></th>\n",
       "      <th></th>\n",
       "      <th>art</th>\n",
       "      <th>biology</th>\n",
       "      <th>history</th>\n",
       "      <th>literature</th>\n",
       "      <th>mathematics</th>\n",
       "      <th>physics</th>\n",
       "    </tr>\n",
       "    <tr>\n",
       "      <th>city</th>\n",
       "      <th>name</th>\n",
       "      <th></th>\n",
       "      <th></th>\n",
       "      <th></th>\n",
       "      <th></th>\n",
       "      <th></th>\n",
       "      <th></th>\n",
       "    </tr>\n",
       "  </thead>\n",
       "  <tbody>\n",
       "    <tr>\n",
       "      <th>Berlin</th>\n",
       "      <th>Maxim</th>\n",
       "      <td>7.0</td>\n",
       "      <td>9.0</td>\n",
       "      <td>7.0</td>\n",
       "      <td>4.0</td>\n",
       "      <td>6.0</td>\n",
       "      <td>9.0</td>\n",
       "    </tr>\n",
       "    <tr>\n",
       "      <th rowspan=\"2\" valign=\"top\">Burgas</th>\n",
       "      <th>Asen</th>\n",
       "      <td>8.0</td>\n",
       "      <td>4.0</td>\n",
       "      <td>8.0</td>\n",
       "      <td>2.0</td>\n",
       "      <td>4.0</td>\n",
       "      <td>5.0</td>\n",
       "    </tr>\n",
       "    <tr>\n",
       "      <th>Evelina</th>\n",
       "      <td>9.0</td>\n",
       "      <td>5.0</td>\n",
       "      <td>8.0</td>\n",
       "      <td>6.0</td>\n",
       "      <td>5.0</td>\n",
       "      <td>7.0</td>\n",
       "    </tr>\n",
       "    <tr>\n",
       "      <th>Moscow</th>\n",
       "      <th>Ivan</th>\n",
       "      <td>6.0</td>\n",
       "      <td>7.0</td>\n",
       "      <td>4.0</td>\n",
       "      <td>3.0</td>\n",
       "      <td>2.0</td>\n",
       "      <td>6.0</td>\n",
       "    </tr>\n",
       "    <tr>\n",
       "      <th>Plovdiv</th>\n",
       "      <th>Peter</th>\n",
       "      <td>7.0</td>\n",
       "      <td>8.0</td>\n",
       "      <td>5.0</td>\n",
       "      <td>7.0</td>\n",
       "      <td>8.0</td>\n",
       "      <td>1.0</td>\n",
       "    </tr>\n",
       "    <tr>\n",
       "      <th>Sofia</th>\n",
       "      <th>Georgii</th>\n",
       "      <td>8.0</td>\n",
       "      <td>6.0</td>\n",
       "      <td>9.0</td>\n",
       "      <td>8.0</td>\n",
       "      <td>9.0</td>\n",
       "      <td>3.0</td>\n",
       "    </tr>\n",
       "  </tbody>\n",
       "</table>\n",
       "</div>"
      ],
      "text/plain": [
       "                 art  biology  history  literature  mathematics  physics\n",
       "city    name                                                            \n",
       "Berlin  Maxim    7.0      9.0      7.0         4.0          6.0      9.0\n",
       "Burgas  Asen     8.0      4.0      8.0         2.0          4.0      5.0\n",
       "        Evelina  9.0      5.0      8.0         6.0          5.0      7.0\n",
       "Moscow  Ivan     6.0      7.0      4.0         3.0          2.0      6.0\n",
       "Plovdiv Peter    7.0      8.0      5.0         7.0          8.0      1.0\n",
       "Sofia   Georgii  8.0      6.0      9.0         8.0          9.0      3.0"
      ]
     },
     "execution_count": 268,
     "metadata": {},
     "output_type": "execute_result"
    }
   ],
   "source": [
    "r = pd.pivot_table(d, index=[\"city\", \"name\"], values=[\"mathematics\", \"physics\", \"literature\", \"history\", \"biology\", \"art\"], aggfunc=\"mean\")\n",
    "r"
   ]
  },
  {
   "cell_type": "code",
   "execution_count": 292,
   "metadata": {},
   "outputs": [
    {
     "data": {
      "text/plain": [
       "biology  art   -0.662541\n",
       "dtype: float64"
      ]
     },
     "execution_count": 292,
     "metadata": {},
     "output_type": "execute_result"
    }
   ],
   "source": [
    "r = d[[\"mathematics\", \"physics\", \"literature\", \"history\", \"biology\", \"art\"]].corr()\n",
    "sd = r.unstack().sort_values().drop_duplicates()\n",
    "sd.head(1)\n",
    "sd.tail(1)\n"
   ]
  },
  {
   "cell_type": "code",
   "execution_count": 298,
   "metadata": {},
   "outputs": [
    {
     "data": {
      "text/html": [
       "<div>\n",
       "<style scoped>\n",
       "    .dataframe tbody tr th:only-of-type {\n",
       "        vertical-align: middle;\n",
       "    }\n",
       "\n",
       "    .dataframe tbody tr th {\n",
       "        vertical-align: top;\n",
       "    }\n",
       "\n",
       "    .dataframe thead th {\n",
       "        text-align: right;\n",
       "    }\n",
       "</style>\n",
       "<table border=\"1\" class=\"dataframe\">\n",
       "  <thead>\n",
       "    <tr style=\"text-align: right;\">\n",
       "      <th></th>\n",
       "      <th>name</th>\n",
       "      <th>mathematics</th>\n",
       "      <th>history</th>\n",
       "    </tr>\n",
       "  </thead>\n",
       "  <tbody>\n",
       "    <tr>\n",
       "      <th>0</th>\n",
       "      <td>Ivan</td>\n",
       "      <td>2</td>\n",
       "      <td>4</td>\n",
       "    </tr>\n",
       "    <tr>\n",
       "      <th>1</th>\n",
       "      <td>Evelina</td>\n",
       "      <td>5</td>\n",
       "      <td>8</td>\n",
       "    </tr>\n",
       "    <tr>\n",
       "      <th>4</th>\n",
       "      <td>Maxim</td>\n",
       "      <td>6</td>\n",
       "      <td>7</td>\n",
       "    </tr>\n",
       "    <tr>\n",
       "      <th>5</th>\n",
       "      <td>Asen</td>\n",
       "      <td>4</td>\n",
       "      <td>8</td>\n",
       "    </tr>\n",
       "  </tbody>\n",
       "</table>\n",
       "</div>"
      ],
      "text/plain": [
       "      name  mathematics  history\n",
       "0     Ivan            2        4\n",
       "1  Evelina            5        8\n",
       "4    Maxim            6        7\n",
       "5     Asen            4        8"
      ]
     },
     "execution_count": 298,
     "metadata": {},
     "output_type": "execute_result"
    }
   ],
   "source": [
    "s = d[d[\"mathematics\"] < d[\"history\"]]\n",
    "s[[\"name\", \"mathematics\", \"history\"]]"
   ]
  },
  {
   "cell_type": "code",
   "execution_count": 313,
   "metadata": {},
   "outputs": [
    {
     "data": {
      "text/plain": [
       "array([[<Axes: title={'center': 'average'}>]], dtype=object)"
      ]
     },
     "execution_count": 313,
     "metadata": {},
     "output_type": "execute_result"
    },
    {
     "data": {
      "image/png": "[encoded data removed]",
      "text/plain": [
       "<Figure size 640x480 with 1 Axes>"
      ]
     },
     "metadata": {},
     "output_type": "display_data"
    }
   ],
   "source": [
    "d.hist(\"average\")"
   ]
  },
  {
   "cell_type": "code",
   "execution_count": 323,
   "metadata": {},
   "outputs": [
    {
     "data": {
      "text/html": [
       "<div>\n",
       "<style scoped>\n",
       "    .dataframe tbody tr th:only-of-type {\n",
       "        vertical-align: middle;\n",
       "    }\n",
       "\n",
       "    .dataframe tbody tr th {\n",
       "        vertical-align: top;\n",
       "    }\n",
       "\n",
       "    .dataframe thead th {\n",
       "        text-align: right;\n",
       "    }\n",
       "</style>\n",
       "<table border=\"1\" class=\"dataframe\">\n",
       "  <thead>\n",
       "    <tr style=\"text-align: right;\">\n",
       "      <th></th>\n",
       "      <th>name</th>\n",
       "      <th>city</th>\n",
       "    </tr>\n",
       "  </thead>\n",
       "  <tbody>\n",
       "    <tr>\n",
       "      <th>3</th>\n",
       "      <td>Georgii</td>\n",
       "      <td>Sofia</td>\n",
       "    </tr>\n",
       "    <tr>\n",
       "      <th>4</th>\n",
       "      <td>Maxim</td>\n",
       "      <td>Berlin</td>\n",
       "    </tr>\n",
       "    <tr>\n",
       "      <th>3</th>\n",
       "      <td>Georgii</td>\n",
       "      <td>Sofia</td>\n",
       "    </tr>\n",
       "    <tr>\n",
       "      <th>3</th>\n",
       "      <td>Georgii</td>\n",
       "      <td>Sofia</td>\n",
       "    </tr>\n",
       "    <tr>\n",
       "      <th>4</th>\n",
       "      <td>Maxim</td>\n",
       "      <td>Berlin</td>\n",
       "    </tr>\n",
       "    <tr>\n",
       "      <th>1</th>\n",
       "      <td>Evelina</td>\n",
       "      <td>Burgas</td>\n",
       "    </tr>\n",
       "  </tbody>\n",
       "</table>\n",
       "</div>"
      ],
      "text/plain": [
       "      name    city\n",
       "3  Georgii   Sofia\n",
       "4    Maxim  Berlin\n",
       "3  Georgii   Sofia\n",
       "3  Georgii   Sofia\n",
       "4    Maxim  Berlin\n",
       "1  Evelina  Burgas"
      ]
     },
     "execution_count": 323,
     "metadata": {},
     "output_type": "execute_result"
    }
   ],
   "source": [
    "s = d[[\"mathematics\", \"physics\", \"literature\", \"history\", \"biology\", \"art\"]].idxmax()\n",
    "\n",
    "d.loc[s, [\"name\", \"city\"]]\n"
   ]
  },
  {
   "cell_type": "code",
   "execution_count": 324,
   "metadata": {},
   "outputs": [
    {
     "data": {
      "text/html": [
       "<div>\n",
       "<style scoped>\n",
       "    .dataframe tbody tr th:only-of-type {\n",
       "        vertical-align: middle;\n",
       "    }\n",
       "\n",
       "    .dataframe tbody tr th {\n",
       "        vertical-align: top;\n",
       "    }\n",
       "\n",
       "    .dataframe thead th {\n",
       "        text-align: right;\n",
       "    }\n",
       "</style>\n",
       "<table border=\"1\" class=\"dataframe\">\n",
       "  <thead>\n",
       "    <tr style=\"text-align: right;\">\n",
       "      <th></th>\n",
       "      <th>name</th>\n",
       "      <th>city</th>\n",
       "      <th>total</th>\n",
       "    </tr>\n",
       "  </thead>\n",
       "  <tbody>\n",
       "    <tr>\n",
       "      <th>0</th>\n",
       "      <td>Ivan</td>\n",
       "      <td>Moscow</td>\n",
       "      <td>28</td>\n",
       "    </tr>\n",
       "    <tr>\n",
       "      <th>1</th>\n",
       "      <td>Evelina</td>\n",
       "      <td>Burgas</td>\n",
       "      <td>40</td>\n",
       "    </tr>\n",
       "    <tr>\n",
       "      <th>2</th>\n",
       "      <td>Peter</td>\n",
       "      <td>Plovdiv</td>\n",
       "      <td>36</td>\n",
       "    </tr>\n",
       "    <tr>\n",
       "      <th>3</th>\n",
       "      <td>Georgii</td>\n",
       "      <td>Sofia</td>\n",
       "      <td>43</td>\n",
       "    </tr>\n",
       "    <tr>\n",
       "      <th>4</th>\n",
       "      <td>Maxim</td>\n",
       "      <td>Berlin</td>\n",
       "      <td>42</td>\n",
       "    </tr>\n",
       "    <tr>\n",
       "      <th>5</th>\n",
       "      <td>Asen</td>\n",
       "      <td>Burgas</td>\n",
       "      <td>31</td>\n",
       "    </tr>\n",
       "  </tbody>\n",
       "</table>\n",
       "</div>"
      ],
      "text/plain": [
       "      name     city  total\n",
       "0     Ivan   Moscow     28\n",
       "1  Evelina   Burgas     40\n",
       "2    Peter  Plovdiv     36\n",
       "3  Georgii    Sofia     43\n",
       "4    Maxim   Berlin     42\n",
       "5     Asen   Burgas     31"
      ]
     },
     "execution_count": 324,
     "metadata": {},
     "output_type": "execute_result"
    }
   ],
   "source": [
    "d[[\"name\", \"city\", \"total\"]]"
   ]
  },
  {
   "cell_type": "code",
   "execution_count": 326,
   "metadata": {},
   "outputs": [
    {
     "data": {
      "text/plain": [
       "city\n",
       "Berlin     1\n",
       "Burgas     2\n",
       "Moscow     1\n",
       "Plovdiv    1\n",
       "Sofia      1\n",
       "dtype: int64"
      ]
     },
     "execution_count": 326,
     "metadata": {},
     "output_type": "execute_result"
    }
   ],
   "source": [
    "d.groupby(\"city\").size()"
   ]
  },
  {
   "cell_type": "code",
   "execution_count": 327,
   "metadata": {},
   "outputs": [
    {
     "data": {
      "text/html": [
       "<div>\n",
       "<style scoped>\n",
       "    .dataframe tbody tr th:only-of-type {\n",
       "        vertical-align: middle;\n",
       "    }\n",
       "\n",
       "    .dataframe tbody tr th {\n",
       "        vertical-align: top;\n",
       "    }\n",
       "\n",
       "    .dataframe thead th {\n",
       "        text-align: right;\n",
       "    }\n",
       "</style>\n",
       "<table border=\"1\" class=\"dataframe\">\n",
       "  <thead>\n",
       "    <tr style=\"text-align: right;\">\n",
       "      <th></th>\n",
       "      <th>name</th>\n",
       "      <th>city</th>\n",
       "      <th>mathematics</th>\n",
       "      <th>physics</th>\n",
       "      <th>literature</th>\n",
       "      <th>age</th>\n",
       "      <th>history</th>\n",
       "      <th>biology</th>\n",
       "      <th>art</th>\n",
       "      <th>average</th>\n",
       "      <th>average mathematics</th>\n",
       "      <th>total</th>\n",
       "      <th>pass_fail</th>\n",
       "    </tr>\n",
       "  </thead>\n",
       "  <tbody>\n",
       "    <tr>\n",
       "      <th>2</th>\n",
       "      <td>Peter</td>\n",
       "      <td>Plovdiv</td>\n",
       "      <td>8</td>\n",
       "      <td>1</td>\n",
       "      <td>7</td>\n",
       "      <td>16</td>\n",
       "      <td>5</td>\n",
       "      <td>8</td>\n",
       "      <td>7</td>\n",
       "      <td>6.000000</td>\n",
       "      <td>5.166667</td>\n",
       "      <td>36</td>\n",
       "      <td>Pass</td>\n",
       "    </tr>\n",
       "    <tr>\n",
       "      <th>3</th>\n",
       "      <td>Georgii</td>\n",
       "      <td>Sofia</td>\n",
       "      <td>9</td>\n",
       "      <td>3</td>\n",
       "      <td>8</td>\n",
       "      <td>15</td>\n",
       "      <td>9</td>\n",
       "      <td>6</td>\n",
       "      <td>8</td>\n",
       "      <td>7.166667</td>\n",
       "      <td>5.166667</td>\n",
       "      <td>43</td>\n",
       "      <td>Pass</td>\n",
       "    </tr>\n",
       "    <tr>\n",
       "      <th>4</th>\n",
       "      <td>Maxim</td>\n",
       "      <td>Berlin</td>\n",
       "      <td>6</td>\n",
       "      <td>9</td>\n",
       "      <td>4</td>\n",
       "      <td>16</td>\n",
       "      <td>7</td>\n",
       "      <td>9</td>\n",
       "      <td>7</td>\n",
       "      <td>7.000000</td>\n",
       "      <td>5.166667</td>\n",
       "      <td>42</td>\n",
       "      <td>Pass</td>\n",
       "    </tr>\n",
       "  </tbody>\n",
       "</table>\n",
       "</div>"
      ],
      "text/plain": [
       "      name     city  mathematics  physics  literature  age  history  biology  \\\n",
       "2    Peter  Plovdiv            8        1           7   16        5        8   \n",
       "3  Georgii    Sofia            9        3           8   15        9        6   \n",
       "4    Maxim   Berlin            6        9           4   16        7        9   \n",
       "\n",
       "   art   average  average mathematics  total pass_fail  \n",
       "2    7  6.000000             5.166667     36      Pass  \n",
       "3    8  7.166667             5.166667     43      Pass  \n",
       "4    7  7.000000             5.166667     42      Pass  "
      ]
     },
     "execution_count": 327,
     "metadata": {},
     "output_type": "execute_result"
    }
   ],
   "source": [
    "d[d[\"mathematics\"] > 5]"
   ]
  },
  {
   "cell_type": "code",
   "execution_count": 331,
   "metadata": {},
   "outputs": [
    {
     "data": {
      "text/html": [
       "<div>\n",
       "<style scoped>\n",
       "    .dataframe tbody tr th:only-of-type {\n",
       "        vertical-align: middle;\n",
       "    }\n",
       "\n",
       "    .dataframe tbody tr th {\n",
       "        vertical-align: top;\n",
       "    }\n",
       "\n",
       "    .dataframe thead th {\n",
       "        text-align: right;\n",
       "    }\n",
       "</style>\n",
       "<table border=\"1\" class=\"dataframe\">\n",
       "  <thead>\n",
       "    <tr style=\"text-align: right;\">\n",
       "      <th></th>\n",
       "      <th>name</th>\n",
       "      <th>city</th>\n",
       "      <th>mathematics</th>\n",
       "      <th>physics</th>\n",
       "      <th>literature</th>\n",
       "      <th>age</th>\n",
       "      <th>history</th>\n",
       "      <th>biology</th>\n",
       "      <th>art</th>\n",
       "      <th>average</th>\n",
       "      <th>average mathematics</th>\n",
       "      <th>total</th>\n",
       "      <th>pass_fail</th>\n",
       "    </tr>\n",
       "  </thead>\n",
       "  <tbody>\n",
       "    <tr>\n",
       "      <th>3</th>\n",
       "      <td>Georgii</td>\n",
       "      <td>Sofia</td>\n",
       "      <td>9</td>\n",
       "      <td>3</td>\n",
       "      <td>8</td>\n",
       "      <td>15</td>\n",
       "      <td>9</td>\n",
       "      <td>6</td>\n",
       "      <td>8</td>\n",
       "      <td>7.166667</td>\n",
       "      <td>5.166667</td>\n",
       "      <td>43</td>\n",
       "      <td>Pass</td>\n",
       "    </tr>\n",
       "    <tr>\n",
       "      <th>4</th>\n",
       "      <td>Maxim</td>\n",
       "      <td>Berlin</td>\n",
       "      <td>6</td>\n",
       "      <td>9</td>\n",
       "      <td>4</td>\n",
       "      <td>16</td>\n",
       "      <td>7</td>\n",
       "      <td>9</td>\n",
       "      <td>7</td>\n",
       "      <td>7.000000</td>\n",
       "      <td>5.166667</td>\n",
       "      <td>42</td>\n",
       "      <td>Pass</td>\n",
       "    </tr>\n",
       "    <tr>\n",
       "      <th>1</th>\n",
       "      <td>Evelina</td>\n",
       "      <td>Burgas</td>\n",
       "      <td>5</td>\n",
       "      <td>7</td>\n",
       "      <td>6</td>\n",
       "      <td>15</td>\n",
       "      <td>8</td>\n",
       "      <td>5</td>\n",
       "      <td>9</td>\n",
       "      <td>6.666667</td>\n",
       "      <td>5.166667</td>\n",
       "      <td>40</td>\n",
       "      <td>Pass</td>\n",
       "    </tr>\n",
       "  </tbody>\n",
       "</table>\n",
       "</div>"
      ],
      "text/plain": [
       "      name    city  mathematics  physics  literature  age  history  biology  \\\n",
       "3  Georgii   Sofia            9        3           8   15        9        6   \n",
       "4    Maxim  Berlin            6        9           4   16        7        9   \n",
       "1  Evelina  Burgas            5        7           6   15        8        5   \n",
       "\n",
       "   art   average  average mathematics  total pass_fail  \n",
       "3    8  7.166667             5.166667     43      Pass  \n",
       "4    7  7.000000             5.166667     42      Pass  \n",
       "1    9  6.666667             5.166667     40      Pass  "
      ]
     },
     "execution_count": 331,
     "metadata": {},
     "output_type": "execute_result"
    }
   ],
   "source": [
    "d.sort_values(by=\"average\", ascending=False).head(3)"
   ]
  },
  {
   "cell_type": "code",
   "execution_count": 332,
   "metadata": {},
   "outputs": [
    {
     "data": {
      "text/plain": [
       "0    4.666667\n",
       "1    6.666667\n",
       "2    6.000000\n",
       "3    7.166667\n",
       "4    7.000000\n",
       "5    5.166667\n",
       "Name: average, dtype: float64"
      ]
     },
     "execution_count": 332,
     "metadata": {},
     "output_type": "execute_result"
    }
   ],
   "source": [
    "d[\"average\"]"
   ]
  }
 ],
 "metadata": {
  "kernelspec": {
   "display_name": "Python 3",
   "language": "python",
   "name": "python3"
  },
  "language_info": {
   "codemirror_mode": {
    "name": "ipython",
    "version": 3
   },
   "file_extension": ".py",
   "mimetype": "text/x-python",
   "name": "python",
   "nbconvert_exporter": "python",
   "pygments_lexer": "ipython3",
   "version": "3.12.3"
  }
 },
 "nbformat": 4,
 "nbformat_minor": 2
}
