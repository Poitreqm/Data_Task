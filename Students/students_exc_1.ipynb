{
 "cells": [
  {
   "cell_type": "markdown",
   "metadata": {},
   "source": [
    "- Create a Data Frame with the names of students and their grades in three subjects (mathematics, physics, literature).\n",
    "- From the created DataFrame, select the grades of all students in the subject \"mathematics\".\n",
    "- Find all students who have a physics score > 6.\n",
    "- Add a new column that will contain the average score of each student in all subjects.\n",
    "- Delete all rows from the DataFrame with data about students who have an average score below 50."
   ]
  },
  {
   "cell_type": "code",
   "execution_count": 85,
   "metadata": {},
   "outputs": [],
   "source": [
    "import pandas as pd"
   ]
  },
  {
   "cell_type": "code",
   "execution_count": 86,
   "metadata": {},
   "outputs": [
    {
     "name": "stdout",
     "output_type": "stream",
     "text": [
      "      name  math  fiz  litr\n",
      "0     Ivan     6    2     3\n",
      "1  Evelina     7    5     6\n",
      "2    Peter     1    8     7\n",
      "3  Georgii     3    9     8\n",
      "4    Maxim     9    6     4\n"
     ]
    }
   ],
   "source": [
    "t = {\"name\": [\"Ivan\", \"Evelina\", \"Peter\", \"Georgii\", \"Maxim\"], \n",
    "     \"math\": [6, 7, 1, 3, 9], \n",
    "     \"fiz\": [2, 5, 8, 9, 6], \n",
    "     \"litr\": [3, 6, 7, 8, 4]}\n",
    "\n",
    "d = pd.DataFrame(t)\n",
    "\n",
    "print(d)"
   ]
  },
  {
   "cell_type": "code",
   "execution_count": 87,
   "metadata": {},
   "outputs": [
    {
     "name": "stdout",
     "output_type": "stream",
     "text": [
      "0    6\n",
      "1    7\n",
      "2    1\n",
      "3    3\n",
      "4    9\n",
      "Name: math, dtype: int64\n"
     ]
    }
   ],
   "source": [
    "print(d[\"math\"])"
   ]
  },
  {
   "cell_type": "code",
   "execution_count": 88,
   "metadata": {},
   "outputs": [
    {
     "name": "stdout",
     "output_type": "stream",
     "text": [
      "      name  math  fiz  litr\n",
      "2    Peter     1    8     7\n",
      "3  Georgii     3    9     8\n"
     ]
    }
   ],
   "source": [
    "s = d[d[\"fiz\"] > 6]\n",
    "print(s)"
   ]
  },
  {
   "cell_type": "code",
   "execution_count": 89,
   "metadata": {},
   "outputs": [
    {
     "name": "stdout",
     "output_type": "stream",
     "text": [
      "      name  math  fiz  litr    sr_bal\n",
      "0     Ivan     6    2     3  3.666667\n",
      "1  Evelina     7    5     6  6.000000\n",
      "2    Peter     1    8     7  5.333333\n",
      "3  Georgii     3    9     8  6.666667\n",
      "4    Maxim     9    6     4  6.333333\n"
     ]
    }
   ],
   "source": [
    "d[\"sr_bal\"] = (d[\"math\"] + d[\"fiz\"] + d[\"litr\"]) / 3 # \n",
    "print(d)"
   ]
  },
  {
   "cell_type": "code",
   "execution_count": 90,
   "metadata": {},
   "outputs": [
    {
     "name": "stdout",
     "output_type": "stream",
     "text": [
      "      name  math  fiz  litr    sr_bal  sr_math\n",
      "0     Ivan     6    2     3  3.666667      5.2\n",
      "1  Evelina     7    5     6  6.000000      5.2\n",
      "2    Peter     1    8     7  5.333333      5.2\n",
      "3  Georgii     3    9     8  6.666667      5.2\n",
      "4    Maxim     9    6     4  6.333333      5.2\n"
     ]
    }
   ],
   "source": [
    "d[\"sr_math\"] = sum(d[\"math\"]) / len(d[\"math\"])\n",
    "print(d)"
   ]
  },
  {
   "cell_type": "code",
   "execution_count": 91,
   "metadata": {},
   "outputs": [
    {
     "name": "stdout",
     "output_type": "stream",
     "text": [
      "      name  math  fiz  litr    sr_bal  sr_math\n",
      "0     Ivan     6    2     3  3.666667      5.2\n",
      "1  Evelina     7    5     6  6.000000      5.2\n",
      "4    Maxim     9    6     4  6.333333      5.2\n"
     ]
    }
   ],
   "source": [
    "t = d.loc[d[\"fiz\"] < 8]\n",
    "print(t)"
   ]
  }
 ],
 "metadata": {
  "kernelspec": {
   "display_name": "Python 3",
   "language": "python",
   "name": "python3"
  },
  "language_info": {
   "codemirror_mode": {
    "name": "ipython",
    "version": 3
   },
   "file_extension": ".py",
   "mimetype": "text/x-python",
   "name": "python",
   "nbconvert_exporter": "python",
   "pygments_lexer": "ipython3",
   "version": "3.12.3"
  }
 },
 "nbformat": 4,
 "nbformat_minor": 2
}
